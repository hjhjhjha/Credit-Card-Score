{
 "cells": [
  {
   "cell_type": "code",
   "execution_count": 1,
   "metadata": {
    "collapsed": true
   },
   "outputs": [],
   "source": [
    "import numpy as nps\n",
    "import pandas as pd\n",
    "import matplotlib.pyplot as plt\n",
    "import seaborn as sns\n",
    "%matplotlib inline"
   ]
  },
  {
   "cell_type": "code",
   "execution_count": 2,
   "metadata": {},
   "outputs": [
    {
     "data": {
      "text/html": [
       "<div>\n",
       "<style>\n",
       "    .dataframe thead tr:only-child th {\n",
       "        text-align: right;\n",
       "    }\n",
       "\n",
       "    .dataframe thead th {\n",
       "        text-align: left;\n",
       "    }\n",
       "\n",
       "    .dataframe tbody tr th {\n",
       "        vertical-align: top;\n",
       "    }\n",
       "</style>\n",
       "<table border=\"1\" class=\"dataframe\">\n",
       "  <thead>\n",
       "    <tr style=\"text-align: right;\">\n",
       "      <th></th>\n",
       "      <th>Variable Name</th>\n",
       "      <th>Description</th>\n",
       "      <th>Type</th>\n",
       "    </tr>\n",
       "  </thead>\n",
       "  <tbody>\n",
       "    <tr>\n",
       "      <th>0</th>\n",
       "      <td>SeriousDlqin2yrs</td>\n",
       "      <td>Person experienced 90 days past due delinquenc...</td>\n",
       "      <td>Y/N</td>\n",
       "    </tr>\n",
       "    <tr>\n",
       "      <th>1</th>\n",
       "      <td>RevolvingUtilizationOfUnsecuredLines</td>\n",
       "      <td>Total balance on credit cards and personal lin...</td>\n",
       "      <td>percentage</td>\n",
       "    </tr>\n",
       "    <tr>\n",
       "      <th>2</th>\n",
       "      <td>age</td>\n",
       "      <td>Age of borrower in years</td>\n",
       "      <td>integer</td>\n",
       "    </tr>\n",
       "    <tr>\n",
       "      <th>3</th>\n",
       "      <td>NumberOfTime30-59DaysPastDueNotWorse</td>\n",
       "      <td>Number of times borrower has been 30-59 days p...</td>\n",
       "      <td>integer</td>\n",
       "    </tr>\n",
       "    <tr>\n",
       "      <th>4</th>\n",
       "      <td>DebtRatio</td>\n",
       "      <td>Monthly debt payments, alimony,living costs di...</td>\n",
       "      <td>percentage</td>\n",
       "    </tr>\n",
       "    <tr>\n",
       "      <th>5</th>\n",
       "      <td>MonthlyIncome</td>\n",
       "      <td>Monthly income</td>\n",
       "      <td>real</td>\n",
       "    </tr>\n",
       "    <tr>\n",
       "      <th>6</th>\n",
       "      <td>NumberOfOpenCreditLinesAndLoans</td>\n",
       "      <td>Number of Open loans (installment like car loa...</td>\n",
       "      <td>integer</td>\n",
       "    </tr>\n",
       "    <tr>\n",
       "      <th>7</th>\n",
       "      <td>NumberOfTimes90DaysLate</td>\n",
       "      <td>Number of times borrower has been 90 days or m...</td>\n",
       "      <td>integer</td>\n",
       "    </tr>\n",
       "    <tr>\n",
       "      <th>8</th>\n",
       "      <td>NumberRealEstateLoansOrLines</td>\n",
       "      <td>Number of mortgage and real estate loans inclu...</td>\n",
       "      <td>integer</td>\n",
       "    </tr>\n",
       "    <tr>\n",
       "      <th>9</th>\n",
       "      <td>NumberOfTime60-89DaysPastDueNotWorse</td>\n",
       "      <td>Number of times borrower has been 60-89 days p...</td>\n",
       "      <td>integer</td>\n",
       "    </tr>\n",
       "    <tr>\n",
       "      <th>10</th>\n",
       "      <td>NumberOfDependents</td>\n",
       "      <td>Number of dependents in family excluding thems...</td>\n",
       "      <td>integer</td>\n",
       "    </tr>\n",
       "  </tbody>\n",
       "</table>\n",
       "</div>"
      ],
      "text/plain": [
       "                           Variable Name  \\\n",
       "0                       SeriousDlqin2yrs   \n",
       "1   RevolvingUtilizationOfUnsecuredLines   \n",
       "2                                    age   \n",
       "3   NumberOfTime30-59DaysPastDueNotWorse   \n",
       "4                              DebtRatio   \n",
       "5                          MonthlyIncome   \n",
       "6        NumberOfOpenCreditLinesAndLoans   \n",
       "7                NumberOfTimes90DaysLate   \n",
       "8           NumberRealEstateLoansOrLines   \n",
       "9   NumberOfTime60-89DaysPastDueNotWorse   \n",
       "10                    NumberOfDependents   \n",
       "\n",
       "                                          Description        Type  \n",
       "0   Person experienced 90 days past due delinquenc...         Y/N  \n",
       "1   Total balance on credit cards and personal lin...  percentage  \n",
       "2                            Age of borrower in years     integer  \n",
       "3   Number of times borrower has been 30-59 days p...     integer  \n",
       "4   Monthly debt payments, alimony,living costs di...  percentage  \n",
       "5                                      Monthly income        real  \n",
       "6   Number of Open loans (installment like car loa...     integer  \n",
       "7   Number of times borrower has been 90 days or m...     integer  \n",
       "8   Number of mortgage and real estate loans inclu...     integer  \n",
       "9   Number of times borrower has been 60-89 days p...     integer  \n",
       "10  Number of dependents in family excluding thems...     integer  "
      ]
     },
     "execution_count": 2,
     "metadata": {},
     "output_type": "execute_result"
    }
   ],
   "source": [
    "# 标量的基本情况，变量名称、描述和类型\n",
    "pd.read_excel(\"./GiveMeSomeCredit/Data Dictionary.xls\")"
   ]
  },
  {
   "cell_type": "code",
   "execution_count": 3,
   "metadata": {},
   "outputs": [
    {
     "data": {
      "text/html": [
       "<div>\n",
       "<style>\n",
       "    .dataframe thead tr:only-child th {\n",
       "        text-align: right;\n",
       "    }\n",
       "\n",
       "    .dataframe thead th {\n",
       "        text-align: left;\n",
       "    }\n",
       "\n",
       "    .dataframe tbody tr th {\n",
       "        vertical-align: top;\n",
       "    }\n",
       "</style>\n",
       "<table border=\"1\" class=\"dataframe\">\n",
       "  <thead>\n",
       "    <tr style=\"text-align: right;\">\n",
       "      <th></th>\n",
       "      <th>变量名字</th>\n",
       "      <th>描述</th>\n",
       "      <th>类型</th>\n",
       "    </tr>\n",
       "  </thead>\n",
       "  <tbody>\n",
       "    <tr>\n",
       "      <th>0</th>\n",
       "      <td>SeriousDlqin2yrs</td>\n",
       "      <td>好坏客户</td>\n",
       "      <td>Y/N</td>\n",
       "    </tr>\n",
       "    <tr>\n",
       "      <th>1</th>\n",
       "      <td>RevolvingUtilizationOfUnsecuredLines</td>\n",
       "      <td>信用卡和个人信用额度的总余额，除了房地产和没有分期付款债务，如汽车贷款除以信用额度</td>\n",
       "      <td>percentage</td>\n",
       "    </tr>\n",
       "    <tr>\n",
       "      <th>2</th>\n",
       "      <td>age</td>\n",
       "      <td>出生年龄</td>\n",
       "      <td>integer</td>\n",
       "    </tr>\n",
       "    <tr>\n",
       "      <th>3</th>\n",
       "      <td>NumberOfTime30-59DaysPastDueNotWorse</td>\n",
       "      <td>过去两年借款35-59天逾期但是不糟糕的次数</td>\n",
       "      <td>integer</td>\n",
       "    </tr>\n",
       "    <tr>\n",
       "      <th>4</th>\n",
       "      <td>DebtRatio</td>\n",
       "      <td>每月债务支付、赡养费、生活费用除以毛利</td>\n",
       "      <td>percentage</td>\n",
       "    </tr>\n",
       "    <tr>\n",
       "      <th>5</th>\n",
       "      <td>MonthlyIncome</td>\n",
       "      <td>月收入</td>\n",
       "      <td>real</td>\n",
       "    </tr>\n",
       "    <tr>\n",
       "      <th>6</th>\n",
       "      <td>NumberOfOpenCreditLinesAndLoans</td>\n",
       "      <td>开放式贷款（分期付款汽车贷款或抵押贷款）和信用额度（信用卡）的次数</td>\n",
       "      <td>integer</td>\n",
       "    </tr>\n",
       "    <tr>\n",
       "      <th>7</th>\n",
       "      <td>NumberOfTimes90DaysLate</td>\n",
       "      <td>&gt;= 90天逾期</td>\n",
       "      <td>integer</td>\n",
       "    </tr>\n",
       "    <tr>\n",
       "      <th>8</th>\n",
       "      <td>NumberRealEstateLoansOrLines</td>\n",
       "      <td>抵押贷款和房地产贷款包括房屋净值信贷额度</td>\n",
       "      <td>integer</td>\n",
       "    </tr>\n",
       "    <tr>\n",
       "      <th>9</th>\n",
       "      <td>NumberOfTime60-89DaysPastDueNotWorse</td>\n",
       "      <td>过去两年借款60-89天逾期但是不糟糕的次数</td>\n",
       "      <td>integer</td>\n",
       "    </tr>\n",
       "    <tr>\n",
       "      <th>10</th>\n",
       "      <td>NumberOfDependents</td>\n",
       "      <td>家属数量不包括自己</td>\n",
       "      <td>integer</td>\n",
       "    </tr>\n",
       "  </tbody>\n",
       "</table>\n",
       "</div>"
      ],
      "text/plain": [
       "                                    变量名字  \\\n",
       "0                       SeriousDlqin2yrs   \n",
       "1   RevolvingUtilizationOfUnsecuredLines   \n",
       "2                                    age   \n",
       "3   NumberOfTime30-59DaysPastDueNotWorse   \n",
       "4                              DebtRatio   \n",
       "5                          MonthlyIncome   \n",
       "6        NumberOfOpenCreditLinesAndLoans   \n",
       "7                NumberOfTimes90DaysLate   \n",
       "8           NumberRealEstateLoansOrLines   \n",
       "9   NumberOfTime60-89DaysPastDueNotWorse   \n",
       "10                    NumberOfDependents   \n",
       "\n",
       "                                           描述          类型  \n",
       "0                                        好坏客户         Y/N  \n",
       "1   信用卡和个人信用额度的总余额，除了房地产和没有分期付款债务，如汽车贷款除以信用额度  percentage  \n",
       "2                                        出生年龄     integer  \n",
       "3                      过去两年借款35-59天逾期但是不糟糕的次数     integer  \n",
       "4                         每月债务支付、赡养费、生活费用除以毛利  percentage  \n",
       "5                                         月收入        real  \n",
       "6           开放式贷款（分期付款汽车贷款或抵押贷款）和信用额度（信用卡）的次数     integer  \n",
       "7                                    >= 90天逾期     integer  \n",
       "8                        抵押贷款和房地产贷款包括房屋净值信贷额度     integer  \n",
       "9                      过去两年借款60-89天逾期但是不糟糕的次数     integer  \n",
       "10                                  家属数量不包括自己     integer  "
      ]
     },
     "execution_count": 3,
     "metadata": {},
     "output_type": "execute_result"
    }
   ],
   "source": [
    "pd.read_excel(\"./GiveMeSomeCredit/数据属性.xlsx\")"
   ]
  },
  {
   "cell_type": "code",
   "execution_count": 4,
   "metadata": {
    "collapsed": true
   },
   "outputs": [],
   "source": [
    "df = pd.read_csv(\"./GiveMeSomeCredit/cs-training.csv\").drop(\"Unnamed: 0\", axis=1)"
   ]
  },
  {
   "cell_type": "code",
   "execution_count": 5,
   "metadata": {},
   "outputs": [
    {
     "data": {
      "text/html": [
       "<div>\n",
       "<style>\n",
       "    .dataframe thead tr:only-child th {\n",
       "        text-align: right;\n",
       "    }\n",
       "\n",
       "    .dataframe thead th {\n",
       "        text-align: left;\n",
       "    }\n",
       "\n",
       "    .dataframe tbody tr th {\n",
       "        vertical-align: top;\n",
       "    }\n",
       "</style>\n",
       "<table border=\"1\" class=\"dataframe\">\n",
       "  <thead>\n",
       "    <tr style=\"text-align: right;\">\n",
       "      <th></th>\n",
       "      <th>SeriousDlqin2yrs</th>\n",
       "      <th>RevolvingUtilizationOfUnsecuredLines</th>\n",
       "      <th>age</th>\n",
       "      <th>NumberOfTime30-59DaysPastDueNotWorse</th>\n",
       "      <th>DebtRatio</th>\n",
       "      <th>MonthlyIncome</th>\n",
       "      <th>NumberOfOpenCreditLinesAndLoans</th>\n",
       "      <th>NumberOfTimes90DaysLate</th>\n",
       "      <th>NumberRealEstateLoansOrLines</th>\n",
       "      <th>NumberOfTime60-89DaysPastDueNotWorse</th>\n",
       "      <th>NumberOfDependents</th>\n",
       "    </tr>\n",
       "  </thead>\n",
       "  <tbody>\n",
       "    <tr>\n",
       "      <th>0</th>\n",
       "      <td>1</td>\n",
       "      <td>0.766127</td>\n",
       "      <td>45</td>\n",
       "      <td>2</td>\n",
       "      <td>0.802982</td>\n",
       "      <td>9120.0</td>\n",
       "      <td>13</td>\n",
       "      <td>0</td>\n",
       "      <td>6</td>\n",
       "      <td>0</td>\n",
       "      <td>2.0</td>\n",
       "    </tr>\n",
       "    <tr>\n",
       "      <th>1</th>\n",
       "      <td>0</td>\n",
       "      <td>0.957151</td>\n",
       "      <td>40</td>\n",
       "      <td>0</td>\n",
       "      <td>0.121876</td>\n",
       "      <td>2600.0</td>\n",
       "      <td>4</td>\n",
       "      <td>0</td>\n",
       "      <td>0</td>\n",
       "      <td>0</td>\n",
       "      <td>1.0</td>\n",
       "    </tr>\n",
       "    <tr>\n",
       "      <th>2</th>\n",
       "      <td>0</td>\n",
       "      <td>0.658180</td>\n",
       "      <td>38</td>\n",
       "      <td>1</td>\n",
       "      <td>0.085113</td>\n",
       "      <td>3042.0</td>\n",
       "      <td>2</td>\n",
       "      <td>1</td>\n",
       "      <td>0</td>\n",
       "      <td>0</td>\n",
       "      <td>0.0</td>\n",
       "    </tr>\n",
       "    <tr>\n",
       "      <th>3</th>\n",
       "      <td>0</td>\n",
       "      <td>0.233810</td>\n",
       "      <td>30</td>\n",
       "      <td>0</td>\n",
       "      <td>0.036050</td>\n",
       "      <td>3300.0</td>\n",
       "      <td>5</td>\n",
       "      <td>0</td>\n",
       "      <td>0</td>\n",
       "      <td>0</td>\n",
       "      <td>0.0</td>\n",
       "    </tr>\n",
       "    <tr>\n",
       "      <th>4</th>\n",
       "      <td>0</td>\n",
       "      <td>0.907239</td>\n",
       "      <td>49</td>\n",
       "      <td>1</td>\n",
       "      <td>0.024926</td>\n",
       "      <td>63588.0</td>\n",
       "      <td>7</td>\n",
       "      <td>0</td>\n",
       "      <td>1</td>\n",
       "      <td>0</td>\n",
       "      <td>0.0</td>\n",
       "    </tr>\n",
       "  </tbody>\n",
       "</table>\n",
       "</div>"
      ],
      "text/plain": [
       "   SeriousDlqin2yrs  RevolvingUtilizationOfUnsecuredLines  age  \\\n",
       "0                 1                              0.766127   45   \n",
       "1                 0                              0.957151   40   \n",
       "2                 0                              0.658180   38   \n",
       "3                 0                              0.233810   30   \n",
       "4                 0                              0.907239   49   \n",
       "\n",
       "   NumberOfTime30-59DaysPastDueNotWorse  DebtRatio  MonthlyIncome  \\\n",
       "0                                     2   0.802982         9120.0   \n",
       "1                                     0   0.121876         2600.0   \n",
       "2                                     1   0.085113         3042.0   \n",
       "3                                     0   0.036050         3300.0   \n",
       "4                                     1   0.024926        63588.0   \n",
       "\n",
       "   NumberOfOpenCreditLinesAndLoans  NumberOfTimes90DaysLate  \\\n",
       "0                               13                        0   \n",
       "1                                4                        0   \n",
       "2                                2                        1   \n",
       "3                                5                        0   \n",
       "4                                7                        0   \n",
       "\n",
       "   NumberRealEstateLoansOrLines  NumberOfTime60-89DaysPastDueNotWorse  \\\n",
       "0                             6                                     0   \n",
       "1                             0                                     0   \n",
       "2                             0                                     0   \n",
       "3                             0                                     0   \n",
       "4                             1                                     0   \n",
       "\n",
       "   NumberOfDependents  \n",
       "0                 2.0  \n",
       "1                 1.0  \n",
       "2                 0.0  \n",
       "3                 0.0  \n",
       "4                 0.0  "
      ]
     },
     "execution_count": 5,
     "metadata": {},
     "output_type": "execute_result"
    }
   ],
   "source": [
    "df.head()"
   ]
  },
  {
   "cell_type": "code",
   "execution_count": 6,
   "metadata": {},
   "outputs": [
    {
     "name": "stdout",
     "output_type": "stream",
     "text": [
      "<class 'pandas.core.frame.DataFrame'>\n",
      "RangeIndex: 150000 entries, 0 to 149999\n",
      "Data columns (total 11 columns):\n",
      "SeriousDlqin2yrs                        150000 non-null int64\n",
      "RevolvingUtilizationOfUnsecuredLines    150000 non-null float64\n",
      "age                                     150000 non-null int64\n",
      "NumberOfTime30-59DaysPastDueNotWorse    150000 non-null int64\n",
      "DebtRatio                               150000 non-null float64\n",
      "MonthlyIncome                           120269 non-null float64\n",
      "NumberOfOpenCreditLinesAndLoans         150000 non-null int64\n",
      "NumberOfTimes90DaysLate                 150000 non-null int64\n",
      "NumberRealEstateLoansOrLines            150000 non-null int64\n",
      "NumberOfTime60-89DaysPastDueNotWorse    150000 non-null int64\n",
      "NumberOfDependents                      146076 non-null float64\n",
      "dtypes: float64(4), int64(7)\n",
      "memory usage: 12.6 MB\n"
     ]
    }
   ],
   "source": [
    "df.info()"
   ]
  },
  {
   "cell_type": "markdown",
   "metadata": {},
   "source": [
    "通过 info() 可以看出一共有150000条信息，MonthyIncome 和 NumberOfDependents 存在缺失的情况，MonthyIncome 缺失29731个数据，NumberOfDependents 缺失3924个数据。"
   ]
  },
  {
   "cell_type": "markdown",
   "metadata": {},
   "source": [
    "下面使用 describe() 来看数据集中的计数、均值、最大最小值、标准差和第一、二、三个四分位值，同时增加了缺失率的计算"
   ]
  },
  {
   "cell_type": "code",
   "execution_count": 7,
   "metadata": {},
   "outputs": [
    {
     "data": {
      "text/html": [
       "<div>\n",
       "<style>\n",
       "    .dataframe thead tr:only-child th {\n",
       "        text-align: right;\n",
       "    }\n",
       "\n",
       "    .dataframe thead th {\n",
       "        text-align: left;\n",
       "    }\n",
       "\n",
       "    .dataframe tbody tr th {\n",
       "        vertical-align: top;\n",
       "    }\n",
       "</style>\n",
       "<table border=\"1\" class=\"dataframe\">\n",
       "  <thead>\n",
       "    <tr style=\"text-align: right;\">\n",
       "      <th></th>\n",
       "      <th>count</th>\n",
       "      <th>mean</th>\n",
       "      <th>std</th>\n",
       "      <th>min</th>\n",
       "      <th>25%</th>\n",
       "      <th>50%</th>\n",
       "      <th>75%</th>\n",
       "      <th>max</th>\n",
       "      <th>missing_rate</th>\n",
       "    </tr>\n",
       "  </thead>\n",
       "  <tbody>\n",
       "    <tr>\n",
       "      <th>SeriousDlqin2yrs</th>\n",
       "      <td>150000.0</td>\n",
       "      <td>0.066840</td>\n",
       "      <td>0.249746</td>\n",
       "      <td>0.0</td>\n",
       "      <td>0.000000</td>\n",
       "      <td>0.000000</td>\n",
       "      <td>0.000000</td>\n",
       "      <td>1.0</td>\n",
       "      <td>0.000000</td>\n",
       "    </tr>\n",
       "    <tr>\n",
       "      <th>RevolvingUtilizationOfUnsecuredLines</th>\n",
       "      <td>150000.0</td>\n",
       "      <td>6.048438</td>\n",
       "      <td>249.755371</td>\n",
       "      <td>0.0</td>\n",
       "      <td>0.029867</td>\n",
       "      <td>0.154181</td>\n",
       "      <td>0.559046</td>\n",
       "      <td>50708.0</td>\n",
       "      <td>0.000000</td>\n",
       "    </tr>\n",
       "    <tr>\n",
       "      <th>age</th>\n",
       "      <td>150000.0</td>\n",
       "      <td>52.295207</td>\n",
       "      <td>14.771866</td>\n",
       "      <td>0.0</td>\n",
       "      <td>41.000000</td>\n",
       "      <td>52.000000</td>\n",
       "      <td>63.000000</td>\n",
       "      <td>109.0</td>\n",
       "      <td>0.000000</td>\n",
       "    </tr>\n",
       "    <tr>\n",
       "      <th>NumberOfTime30-59DaysPastDueNotWorse</th>\n",
       "      <td>150000.0</td>\n",
       "      <td>0.421033</td>\n",
       "      <td>4.192781</td>\n",
       "      <td>0.0</td>\n",
       "      <td>0.000000</td>\n",
       "      <td>0.000000</td>\n",
       "      <td>0.000000</td>\n",
       "      <td>98.0</td>\n",
       "      <td>0.000000</td>\n",
       "    </tr>\n",
       "    <tr>\n",
       "      <th>DebtRatio</th>\n",
       "      <td>150000.0</td>\n",
       "      <td>353.005076</td>\n",
       "      <td>2037.818523</td>\n",
       "      <td>0.0</td>\n",
       "      <td>0.175074</td>\n",
       "      <td>0.366508</td>\n",
       "      <td>0.868254</td>\n",
       "      <td>329664.0</td>\n",
       "      <td>0.000000</td>\n",
       "    </tr>\n",
       "    <tr>\n",
       "      <th>MonthlyIncome</th>\n",
       "      <td>120269.0</td>\n",
       "      <td>6670.221237</td>\n",
       "      <td>14384.674215</td>\n",
       "      <td>0.0</td>\n",
       "      <td>3400.000000</td>\n",
       "      <td>5400.000000</td>\n",
       "      <td>8249.000000</td>\n",
       "      <td>3008750.0</td>\n",
       "      <td>0.198207</td>\n",
       "    </tr>\n",
       "    <tr>\n",
       "      <th>NumberOfOpenCreditLinesAndLoans</th>\n",
       "      <td>150000.0</td>\n",
       "      <td>8.452760</td>\n",
       "      <td>5.145951</td>\n",
       "      <td>0.0</td>\n",
       "      <td>5.000000</td>\n",
       "      <td>8.000000</td>\n",
       "      <td>11.000000</td>\n",
       "      <td>58.0</td>\n",
       "      <td>0.000000</td>\n",
       "    </tr>\n",
       "    <tr>\n",
       "      <th>NumberOfTimes90DaysLate</th>\n",
       "      <td>150000.0</td>\n",
       "      <td>0.265973</td>\n",
       "      <td>4.169304</td>\n",
       "      <td>0.0</td>\n",
       "      <td>0.000000</td>\n",
       "      <td>0.000000</td>\n",
       "      <td>0.000000</td>\n",
       "      <td>98.0</td>\n",
       "      <td>0.000000</td>\n",
       "    </tr>\n",
       "    <tr>\n",
       "      <th>NumberRealEstateLoansOrLines</th>\n",
       "      <td>150000.0</td>\n",
       "      <td>1.018240</td>\n",
       "      <td>1.129771</td>\n",
       "      <td>0.0</td>\n",
       "      <td>0.000000</td>\n",
       "      <td>1.000000</td>\n",
       "      <td>2.000000</td>\n",
       "      <td>54.0</td>\n",
       "      <td>0.000000</td>\n",
       "    </tr>\n",
       "    <tr>\n",
       "      <th>NumberOfTime60-89DaysPastDueNotWorse</th>\n",
       "      <td>150000.0</td>\n",
       "      <td>0.240387</td>\n",
       "      <td>4.155179</td>\n",
       "      <td>0.0</td>\n",
       "      <td>0.000000</td>\n",
       "      <td>0.000000</td>\n",
       "      <td>0.000000</td>\n",
       "      <td>98.0</td>\n",
       "      <td>0.000000</td>\n",
       "    </tr>\n",
       "    <tr>\n",
       "      <th>NumberOfDependents</th>\n",
       "      <td>146076.0</td>\n",
       "      <td>0.757222</td>\n",
       "      <td>1.115086</td>\n",
       "      <td>0.0</td>\n",
       "      <td>0.000000</td>\n",
       "      <td>0.000000</td>\n",
       "      <td>1.000000</td>\n",
       "      <td>20.0</td>\n",
       "      <td>0.026160</td>\n",
       "    </tr>\n",
       "  </tbody>\n",
       "</table>\n",
       "</div>"
      ],
      "text/plain": [
       "                                         count         mean           std  \\\n",
       "SeriousDlqin2yrs                      150000.0     0.066840      0.249746   \n",
       "RevolvingUtilizationOfUnsecuredLines  150000.0     6.048438    249.755371   \n",
       "age                                   150000.0    52.295207     14.771866   \n",
       "NumberOfTime30-59DaysPastDueNotWorse  150000.0     0.421033      4.192781   \n",
       "DebtRatio                             150000.0   353.005076   2037.818523   \n",
       "MonthlyIncome                         120269.0  6670.221237  14384.674215   \n",
       "NumberOfOpenCreditLinesAndLoans       150000.0     8.452760      5.145951   \n",
       "NumberOfTimes90DaysLate               150000.0     0.265973      4.169304   \n",
       "NumberRealEstateLoansOrLines          150000.0     1.018240      1.129771   \n",
       "NumberOfTime60-89DaysPastDueNotWorse  150000.0     0.240387      4.155179   \n",
       "NumberOfDependents                    146076.0     0.757222      1.115086   \n",
       "\n",
       "                                      min          25%          50%  \\\n",
       "SeriousDlqin2yrs                      0.0     0.000000     0.000000   \n",
       "RevolvingUtilizationOfUnsecuredLines  0.0     0.029867     0.154181   \n",
       "age                                   0.0    41.000000    52.000000   \n",
       "NumberOfTime30-59DaysPastDueNotWorse  0.0     0.000000     0.000000   \n",
       "DebtRatio                             0.0     0.175074     0.366508   \n",
       "MonthlyIncome                         0.0  3400.000000  5400.000000   \n",
       "NumberOfOpenCreditLinesAndLoans       0.0     5.000000     8.000000   \n",
       "NumberOfTimes90DaysLate               0.0     0.000000     0.000000   \n",
       "NumberRealEstateLoansOrLines          0.0     0.000000     1.000000   \n",
       "NumberOfTime60-89DaysPastDueNotWorse  0.0     0.000000     0.000000   \n",
       "NumberOfDependents                    0.0     0.000000     0.000000   \n",
       "\n",
       "                                              75%        max  missing_rate  \n",
       "SeriousDlqin2yrs                         0.000000        1.0      0.000000  \n",
       "RevolvingUtilizationOfUnsecuredLines     0.559046    50708.0      0.000000  \n",
       "age                                     63.000000      109.0      0.000000  \n",
       "NumberOfTime30-59DaysPastDueNotWorse     0.000000       98.0      0.000000  \n",
       "DebtRatio                                0.868254   329664.0      0.000000  \n",
       "MonthlyIncome                         8249.000000  3008750.0      0.198207  \n",
       "NumberOfOpenCreditLinesAndLoans         11.000000       58.0      0.000000  \n",
       "NumberOfTimes90DaysLate                  0.000000       98.0      0.000000  \n",
       "NumberRealEstateLoansOrLines             2.000000       54.0      0.000000  \n",
       "NumberOfTime60-89DaysPastDueNotWorse     0.000000       98.0      0.000000  \n",
       "NumberOfDependents                       1.000000       20.0      0.026160  "
      ]
     },
     "execution_count": 7,
     "metadata": {},
     "output_type": "execute_result"
    }
   ],
   "source": [
    "df.describe().T.assign(missing_rate = df.apply(lambda x : (len(x)-x.count())/float(len(x))))"
   ]
  },
  {
   "cell_type": "markdown",
   "metadata": {},
   "source": [
    "### 缺失值处理：\n",
    "    1、由于 MonthyIncome 缺失较多，因此不适合直接进行删除，这边根据变量之间存在的关系来填补缺失值，并采用随机森林的方法；\n",
    "    \n",
    "    2、NumberOfDependents 的缺失较少，对于整体的样本影响有限，因此这边直接进行删除操作，后续也可以进行一些其他的填补操作。"
   ]
  },
  {
   "cell_type": "code",
   "execution_count": 8,
   "metadata": {
    "collapsed": true
   },
   "outputs": [],
   "source": [
    "from sklearn.ensemble import RandomForestRegressor\n",
    "# 用随机森林对缺失值预测填充函数\n",
    "def set_missing(df):\n",
    "    # 把已有的数值型特征取出来\n",
    "    process_df = df.iloc[:, [5,0,1,2,3,4,6,7,8,9]]\n",
    "    # 分成已知该特征和未知该特征两部分\n",
    "    known = process_df[process_df.MonthlyIncome.notnull()].as_matrix()\n",
    "    unknown = process_df[process_df.MonthlyIncome.isnull()].as_matrix()\n",
    "    # X为特征属性值\n",
    "    X = known[:, 1:]\n",
    "    # y为结果标签值\n",
    "    y = known[:, 0]\n",
    "    # fit到RandomForestRegressor之中\n",
    "    rfr = RandomForestRegressor(random_state=0, n_estimators=200, max_depth=3, n_jobs=-1)\n",
    "    rfr.fit(X, y)\n",
    "    # 用得到的模型进行未知特征值预测\n",
    "    predicted = rfr.predict(unknown[:, 1:]).round(0)\n",
    "    print(\"预测值： \", predicted)\n",
    "    # 用得到的预测结果填补原缺失数据\n",
    "    df.loc[(df.MonthlyIncome.isnull()), 'MonthlyIncome'] = predicted\n",
    "    return df"
   ]
  },
  {
   "cell_type": "code",
   "execution_count": 9,
   "metadata": {},
   "outputs": [
    {
     "name": "stdout",
     "output_type": "stream",
     "text": [
      "预测值：  [ 8311.  1159.  8311. ...,  1159.  2554.  2554.]\n"
     ]
    }
   ],
   "source": [
    "df = set_missing(df)"
   ]
  },
  {
   "cell_type": "code",
   "execution_count": 10,
   "metadata": {
    "collapsed": true
   },
   "outputs": [],
   "source": [
    "df = df.dropna() # 删除缺失值"
   ]
  },
  {
   "cell_type": "code",
   "execution_count": 11,
   "metadata": {
    "collapsed": true
   },
   "outputs": [],
   "source": [
    "df = df.drop_duplicates() # 删除重复值"
   ]
  },
  {
   "cell_type": "markdown",
   "metadata": {
    "collapsed": true
   },
   "source": [
    "### 异常值处理：\n",
    "    异常值：偏离大多数抽样数据的数值，通常指测定值中与平均值的偏差超过两倍标准差的测定值\n",
    "    \n",
    "    通常采用离群值检测的方法对异常值进行检测"
   ]
  },
  {
   "cell_type": "markdown",
   "metadata": {},
   "source": [
    "**RevolvingUtilizationOfUnsecuredLines**"
   ]
  },
  {
   "cell_type": "code",
   "execution_count": 12,
   "metadata": {},
   "outputs": [
    {
     "data": {
      "text/plain": [
       "<matplotlib.axes._subplots.AxesSubplot at 0xda0f438>"
      ]
     },
     "execution_count": 12,
     "metadata": {},
     "output_type": "execute_result"
    },
    {
     "data": {
      "image/png": "[encoded data removed]",
      "text/plain": [
       "<matplotlib.figure.Figure at 0xc065f60>"
      ]
     },
     "metadata": {},
     "output_type": "display_data"
    }
   ],
   "source": [
    "df[\"RevolvingUtilizationOfUnsecuredLines\"].plot(kind=\"box\", grid=True)"
   ]
  },
  {
   "cell_type": "code",
   "execution_count": 13,
   "metadata": {
    "collapsed": true
   },
   "outputs": [],
   "source": [
    "# 使用2来代替大于2的值\n",
    "revNew = []\n",
    "for val in df.RevolvingUtilizationOfUnsecuredLines:\n",
    "    if val <= 2:\n",
    "        revNew.append(val)\n",
    "    else:\n",
    "        revNew.append(2.)"
   ]
  },
  {
   "cell_type": "code",
   "execution_count": 14,
   "metadata": {
    "collapsed": true
   },
   "outputs": [],
   "source": [
    "df.RevolvingUtilizationOfUnsecuredLines = revNew"
   ]
  },
  {
   "cell_type": "code",
   "execution_count": 15,
   "metadata": {},
   "outputs": [
    {
     "data": {
      "text/plain": [
       "<matplotlib.axes._subplots.AxesSubplot at 0xc0650b8>"
      ]
     },
     "execution_count": 15,
     "metadata": {},
     "output_type": "execute_result"
    },
    {
     "data": {
      "image/png": "[encoded data removed]",
      "text/plain": [
       "<matplotlib.figure.Figure at 0xd06b780>"
      ]
     },
     "metadata": {},
     "output_type": "display_data"
    }
   ],
   "source": [
    "df[\"RevolvingUtilizationOfUnsecuredLines\"].plot(kind=\"box\",grid=True)"
   ]
  },
  {
   "cell_type": "markdown",
   "metadata": {},
   "source": [
    "**age**"
   ]
  },
  {
   "cell_type": "code",
   "execution_count": 16,
   "metadata": {},
   "outputs": [
    {
     "data": {
      "text/plain": [
       "<matplotlib.axes._subplots.AxesSubplot at 0xf7bf630>"
      ]
     },
     "execution_count": 16,
     "metadata": {},
     "output_type": "execute_result"
    },
    {
     "data": {
      "image/png": "[encoded data removed]",
      "text/plain": [
       "<matplotlib.figure.Figure at 0xd924be0>"
      ]
     },
     "metadata": {},
     "output_type": "display_data"
    }
   ],
   "source": [
    "df.age.plot.box(grid=True)"
   ]
  },
  {
   "cell_type": "code",
   "execution_count": 17,
   "metadata": {
    "collapsed": true
   },
   "outputs": [],
   "source": [
    "# 发现 age 属性中存在0值情况，而这些数据明显是异常值，因此对其进行处理\n",
    "df = df[df[\"age\"] > 0]"
   ]
  },
  {
   "cell_type": "markdown",
   "metadata": {},
   "source": [
    "**NumberOfTime30-59DaysPastDueNotWorse**\n",
    "\n",
    "**NumberOfTime60-89DaysPastDueNotWorse**\n",
    "\n",
    "**NumberOfTimes90DaysLate**"
   ]
  },
  {
   "cell_type": "code",
   "execution_count": 18,
   "metadata": {},
   "outputs": [
    {
     "data": {
      "text/plain": [
       "<matplotlib.axes._subplots.AxesSubplot at 0xf873f98>"
      ]
     },
     "execution_count": 18,
     "metadata": {},
     "output_type": "execute_result"
    },
    {
     "data": {
      "image/png": "[encoded data removed]",
      "text/plain": [
       "<matplotlib.figure.Figure at 0xf182710>"
      ]
     },
     "metadata": {},
     "output_type": "display_data"
    }
   ],
   "source": [
    "df.boxplot(column=[\"NumberOfTime30-59DaysPastDueNotWorse\", \"NumberOfTime60-89DaysPastDueNotWorse\", \"NumberOfTimes90DaysLate\"], \n",
    "            rot=30)"
   ]
  },
  {
   "cell_type": "markdown",
   "metadata": {},
   "source": [
    "上面的箱线图可以看出 NumberOfTime30-59DaysPastDueNotWorse，NumberOfTime60-89DaysPastDueNotWorse，NumberOfTimes90DaysLate三个特征都存在两个异常值，下面使用 unique() 方法查看具体的异常值"
   ]
  },
  {
   "cell_type": "code",
   "execution_count": 19,
   "metadata": {},
   "outputs": [
    {
     "name": "stdout",
     "output_type": "stream",
     "text": [
      "NumberOfTime30-59DaysPastDueNotWorse: [ 2  0  1  3  4  5  7 10  6 98 12  8  9 96 13 11]\n",
      "NumberOfTime60-89DaysPastDueNotWorse: [ 0  1  2  5  3 98  4  6  7  8 96 11  9]\n",
      "NumberOfTimes90DaysLate: [ 0  1  3  2  5  4 98 10  9  6  7  8 15 96 11 13 14 17 12]\n"
     ]
    }
   ],
   "source": [
    "print(\"NumberOfTime30-59DaysPastDueNotWorse:\", df[\"NumberOfTime30-59DaysPastDueNotWorse\"].unique())\n",
    "print(\"NumberOfTime60-89DaysPastDueNotWorse:\", df[\"NumberOfTime60-89DaysPastDueNotWorse\"].unique())\n",
    "print(\"NumberOfTimes90DaysLate:\", df[\"NumberOfTimes90DaysLate\"].unique())"
   ]
  },
  {
   "cell_type": "code",
   "execution_count": 20,
   "metadata": {
    "collapsed": true
   },
   "outputs": [],
   "source": [
    "def replaceOutlier(data):\n",
    "    New = []\n",
    "    med = data.median()\n",
    "    for val in data:\n",
    "        if ((val == 98) | (val == 96)):\n",
    "            New.append(med)\n",
    "        else:\n",
    "            New.append(val)\n",
    "    return New\n",
    "\n",
    "df[\"NumberOfTime30-59DaysPastDueNotWorse\"] = replaceOutlier(df[\"NumberOfTime30-59DaysPastDueNotWorse\"])\n",
    "df[\"NumberOfTime60-89DaysPastDueNotWorse\"] = replaceOutlier(df[\"NumberOfTime60-89DaysPastDueNotWorse\"])\n",
    "df[\"NumberOfTimes90DaysLate\"] = replaceOutlier(df[\"NumberOfTimes90DaysLate\"])"
   ]
  },
  {
   "cell_type": "code",
   "execution_count": 21,
   "metadata": {},
   "outputs": [
    {
     "data": {
      "image/png": "[encoded data removed]",
      "text/plain": [
       "<matplotlib.figure.Figure at 0xf87f6a0>"
      ]
     },
     "metadata": {},
     "output_type": "display_data"
    }
   ],
   "source": [
    "# 下图可以看出 NumberOfTime30-59DaysPastDueNotWorse 删除 98 和 96 两个异常值时，\n",
    "# NumberOfTime60-89DaysPastDueNotWorse 和 NumberOfTimes90DaysLate 的两个异常值也同时删除了\n",
    "df.boxplot(column=[\"NumberOfTime30-59DaysPastDueNotWorse\", \"NumberOfTime60-89DaysPastDueNotWorse\", \"NumberOfTimes90DaysLate\"], \n",
    "            rot=30)\n",
    "plt.show()"
   ]
  },
  {
   "cell_type": "markdown",
   "metadata": {},
   "source": [
    "**DebtRatio**"
   ]
  },
  {
   "cell_type": "code",
   "execution_count": 22,
   "metadata": {},
   "outputs": [
    {
     "data": {
      "text/plain": [
       "<matplotlib.axes._subplots.AxesSubplot at 0xf2da2e8>"
      ]
     },
     "execution_count": 22,
     "metadata": {},
     "output_type": "execute_result"
    },
    {
     "data": {
      "image/png": "[encoded data removed]",
      "text/plain": [
       "<matplotlib.figure.Figure at 0xdce3be0>"
      ]
     },
     "metadata": {},
     "output_type": "display_data"
    }
   ],
   "source": [
    "df[\"DebtRatio\"].plot(kind=\"box\")"
   ]
  },
  {
   "cell_type": "code",
   "execution_count": 23,
   "metadata": {
    "collapsed": true
   },
   "outputs": [],
   "source": [
    "# 使用中位数绝对偏差 MAD（median absolute deviation）方法进行异常值的检测\n",
    "from scipy.stats import norm\n",
    "\n",
    "def mad_based_outlier(points, thresh=3.5):\n",
    "    if type(points) is list:\n",
    "        points = np.asarray(points)\n",
    "    if len(points.shape) == 1:\n",
    "        points = points[:, None]\n",
    "    med = np.median(points, axis=0)\n",
    "    abs_dev = np.absolute(points - med)\n",
    "    med_abs_dev = np.median(abs_dev)\n",
    "\n",
    "    mod_z_score = norm.ppf(0.75) * abs_dev / med_abs_dev\n",
    "    return mod_z_score > thresh"
   ]
  },
  {
   "cell_type": "code",
   "execution_count": 24,
   "metadata": {
    "collapsed": true
   },
   "outputs": [],
   "source": [
    "# 检测出最小的异常值,用于替换异常值\n",
    "minUpperBound = min([val for (val, out) in zip(df.DebtRatio, mad_based_outlier(df.DebtRatio)) if out == True])"
   ]
  },
  {
   "cell_type": "code",
   "execution_count": 25,
   "metadata": {
    "collapsed": true
   },
   "outputs": [],
   "source": [
    "newDebtRatio = []\n",
    "for val in df.DebtRatio:\n",
    "    if val > minUpperBound:\n",
    "        newDebtRatio.append(minUpperBound)\n",
    "    else:\n",
    "        newDebtRatio.append(val)\n",
    "\n",
    "df.DebtRatio = newDebtRatio"
   ]
  },
  {
   "cell_type": "code",
   "execution_count": 26,
   "metadata": {},
   "outputs": [
    {
     "data": {
      "text/plain": [
       "count    145562.000000\n",
       "mean          0.571777\n",
       "std           0.546250\n",
       "min           0.000000\n",
       "25%           0.173933\n",
       "50%           0.359088\n",
       "75%           0.770648\n",
       "max           1.566521\n",
       "Name: DebtRatio, dtype: float64"
      ]
     },
     "execution_count": 26,
     "metadata": {},
     "output_type": "execute_result"
    }
   ],
   "source": [
    "df.DebtRatio.describe()"
   ]
  },
  {
   "cell_type": "code",
   "execution_count": 27,
   "metadata": {},
   "outputs": [
    {
     "data": {
      "text/plain": [
       "<matplotlib.axes._subplots.AxesSubplot at 0xd189940>"
      ]
     },
     "execution_count": 27,
     "metadata": {},
     "output_type": "execute_result"
    },
    {
     "data": {
      "image/png": "[encoded data removed]",
      "text/plain": [
       "<matplotlib.figure.Figure at 0xf349d68>"
      ]
     },
     "metadata": {},
     "output_type": "display_data"
    }
   ],
   "source": [
    "df[\"DebtRatio\"].plot.box(grid=True)"
   ]
  },
  {
   "cell_type": "markdown",
   "metadata": {},
   "source": [
    "**Monthly income**"
   ]
  },
  {
   "cell_type": "code",
   "execution_count": 28,
   "metadata": {},
   "outputs": [
    {
     "data": {
      "text/plain": [
       "count    1.455620e+05\n",
       "mean     6.116310e+03\n",
       "std      1.318226e+04\n",
       "min      0.000000e+00\n",
       "25%      2.554000e+03\n",
       "50%      5.000000e+03\n",
       "75%      8.166000e+03\n",
       "max      3.008750e+06\n",
       "Name: MonthlyIncome, dtype: float64"
      ]
     },
     "execution_count": 28,
     "metadata": {},
     "output_type": "execute_result"
    }
   ],
   "source": [
    "df.MonthlyIncome.describe()"
   ]
  },
  {
   "cell_type": "code",
   "execution_count": 29,
   "metadata": {},
   "outputs": [
    {
     "data": {
      "text/plain": [
       "<matplotlib.axes._subplots.AxesSubplot at 0x102bb9e8>"
      ]
     },
     "execution_count": 29,
     "metadata": {},
     "output_type": "execute_result"
    },
    {
     "data": {
      "image/png": "[encoded data removed]",
      "text/plain": [
       "<matplotlib.figure.Figure at 0xf81feb8>"
      ]
     },
     "metadata": {},
     "output_type": "display_data"
    }
   ],
   "source": [
    "df.MonthlyIncome.plot.box(grid=True)"
   ]
  },
  {
   "cell_type": "code",
   "execution_count": 30,
   "metadata": {
    "collapsed": true
   },
   "outputs": [],
   "source": [
    "minUpperBound_MonthlyIncome = min([val for (val, out) in zip(df.MonthlyIncome, mad_based_outlier(df.MonthlyIncome)) if out == True])"
   ]
  },
  {
   "cell_type": "code",
   "execution_count": 31,
   "metadata": {
    "collapsed": true
   },
   "outputs": [],
   "source": [
    "newMonthlyIncome = []\n",
    "for val in df.MonthlyIncome:\n",
    "    if val > minUpperBound_MonthlyIncome:\n",
    "        newMonthlyIncome.append(minUpperBound_MonthlyIncome)\n",
    "    else:\n",
    "        newMonthlyIncome.append(val)\n",
    "\n",
    "df.MonthlyIncome = newMonthlyIncome"
   ]
  },
  {
   "cell_type": "code",
   "execution_count": 32,
   "metadata": {},
   "outputs": [
    {
     "data": {
      "text/plain": [
       "<matplotlib.axes._subplots.AxesSubplot at 0xf80c898>"
      ]
     },
     "execution_count": 32,
     "metadata": {},
     "output_type": "execute_result"
    },
    {
     "data": {
      "image/png": "[encoded data removed]",
      "text/plain": [
       "<matplotlib.figure.Figure at 0xf81f6d8>"
      ]
     },
     "metadata": {},
     "output_type": "display_data"
    }
   ],
   "source": [
    "df.MonthlyIncome.plot.box()"
   ]
  },
  {
   "cell_type": "markdown",
   "metadata": {},
   "source": [
    "**NumberOfOpenCreditLinesAndLoans**"
   ]
  },
  {
   "cell_type": "code",
   "execution_count": 33,
   "metadata": {},
   "outputs": [
    {
     "data": {
      "text/plain": [
       "<matplotlib.axes._subplots.AxesSubplot at 0x110370f0>"
      ]
     },
     "execution_count": 33,
     "metadata": {},
     "output_type": "execute_result"
    },
    {
     "data": {
      "image/png": "[encoded data removed]",
      "text/plain": [
       "<matplotlib.figure.Figure at 0xfd1cba8>"
      ]
     },
     "metadata": {},
     "output_type": "display_data"
    }
   ],
   "source": [
    "df[\"NumberOfOpenCreditLinesAndLoans\"].plot(kind=\"box\")"
   ]
  },
  {
   "cell_type": "code",
   "execution_count": 34,
   "metadata": {
    "collapsed": true
   },
   "outputs": [],
   "source": [
    "minUpperBound_NumberOfOpenCreditLinesAndLoans = min([val for (val, out) in zip(df.NumberOfOpenCreditLinesAndLoans, mad_based_outlier(df.NumberOfOpenCreditLinesAndLoans)) if out == True])"
   ]
  },
  {
   "cell_type": "code",
   "execution_count": 35,
   "metadata": {
    "collapsed": true
   },
   "outputs": [],
   "source": [
    "newNumberOfOpenCreditLinesAndLoans = []\n",
    "for val in df.NumberOfOpenCreditLinesAndLoans:\n",
    "    if val > minUpperBound_NumberOfOpenCreditLinesAndLoans:\n",
    "        newNumberOfOpenCreditLinesAndLoans.append(minUpperBound_NumberOfOpenCreditLinesAndLoans)\n",
    "    else:\n",
    "        newNumberOfOpenCreditLinesAndLoans.append(val)\n",
    "\n",
    "df.NumberOfOpenCreditLinesAndLoans = newNumberOfOpenCreditLinesAndLoans"
   ]
  },
  {
   "cell_type": "code",
   "execution_count": 36,
   "metadata": {},
   "outputs": [
    {
     "data": {
      "text/plain": [
       "count    145562.000000\n",
       "mean          8.503689\n",
       "std           4.936663\n",
       "min           0.000000\n",
       "25%           5.000000\n",
       "50%           8.000000\n",
       "75%          11.000000\n",
       "max          24.000000\n",
       "Name: NumberOfOpenCreditLinesAndLoans, dtype: float64"
      ]
     },
     "execution_count": 36,
     "metadata": {},
     "output_type": "execute_result"
    }
   ],
   "source": [
    "df.NumberOfOpenCreditLinesAndLoans.describe()"
   ]
  },
  {
   "cell_type": "code",
   "execution_count": 37,
   "metadata": {},
   "outputs": [
    {
     "data": {
      "text/plain": [
       "<matplotlib.axes._subplots.AxesSubplot at 0xf1e6860>"
      ]
     },
     "execution_count": 37,
     "metadata": {},
     "output_type": "execute_result"
    },
    {
     "data": {
      "image/png": "[encoded data removed]",
      "text/plain": [
       "<matplotlib.figure.Figure at 0x11037668>"
      ]
     },
     "metadata": {},
     "output_type": "display_data"
    }
   ],
   "source": [
    "df[\"NumberOfOpenCreditLinesAndLoans\"].plot(kind=\"box\", grid=True)"
   ]
  },
  {
   "cell_type": "markdown",
   "metadata": {},
   "source": [
    "**NumberRealEstateLoansOrLines**"
   ]
  },
  {
   "cell_type": "code",
   "execution_count": 38,
   "metadata": {},
   "outputs": [
    {
     "data": {
      "text/plain": [
       "<matplotlib.axes._subplots.AxesSubplot at 0xf6e3a20>"
      ]
     },
     "execution_count": 38,
     "metadata": {},
     "output_type": "execute_result"
    },
    {
     "data": {
      "image/png": "[encoded data removed]",
      "text/plain": [
       "<matplotlib.figure.Figure at 0x110227b8>"
      ]
     },
     "metadata": {},
     "output_type": "display_data"
    }
   ],
   "source": [
    "df[\"NumberRealEstateLoansOrLines\"].plot(kind=\"box\")"
   ]
  },
  {
   "cell_type": "code",
   "execution_count": 39,
   "metadata": {
    "collapsed": true
   },
   "outputs": [],
   "source": [
    "realNew = []\n",
    "for val in df.NumberRealEstateLoansOrLines:\n",
    "    if val > 17:\n",
    "        realNew.append(17)\n",
    "    else:\n",
    "        realNew.append(val)\n",
    "\n",
    "df.NumberRealEstateLoansOrLines = realNew"
   ]
  },
  {
   "cell_type": "code",
   "execution_count": 40,
   "metadata": {},
   "outputs": [
    {
     "data": {
      "text/plain": [
       "<matplotlib.axes._subplots.AxesSubplot at 0x1155fe80>"
      ]
     },
     "execution_count": 40,
     "metadata": {},
     "output_type": "execute_result"
    },
    {
     "data": {
      "image/png": "[encoded data removed]",
      "text/plain": [
       "<matplotlib.figure.Figure at 0x11109940>"
      ]
     },
     "metadata": {},
     "output_type": "display_data"
    }
   ],
   "source": [
    "df[\"NumberRealEstateLoansOrLines\"].plot(kind=\"box\", grid=True)"
   ]
  },
  {
   "cell_type": "code",
   "execution_count": 41,
   "metadata": {},
   "outputs": [
    {
     "data": {
      "text/plain": [
       "<matplotlib.axes._subplots.AxesSubplot at 0x10e74ac8>"
      ]
     },
     "execution_count": 41,
     "metadata": {},
     "output_type": "execute_result"
    },
    {
     "data": {
      "image/png": "[encoded data removed]",
      "text/plain": [
       "<matplotlib.figure.Figure at 0x11400048>"
      ]
     },
     "metadata": {},
     "output_type": "display_data"
    }
   ],
   "source": [
    "df.NumberOfDependents.plot.box(grid=True)"
   ]
  },
  {
   "cell_type": "code",
   "execution_count": 42,
   "metadata": {
    "collapsed": true
   },
   "outputs": [],
   "source": [
    "depNew = []\n",
    "for var in df.NumberOfDependents:\n",
    "    if var > 10:\n",
    "        depNew.append(10)\n",
    "    else:\n",
    "        depNew.append(var)\n",
    "\n",
    "df.NumberOfDependents = depNew"
   ]
  },
  {
   "cell_type": "code",
   "execution_count": 43,
   "metadata": {},
   "outputs": [
    {
     "data": {
      "text/plain": [
       "<matplotlib.axes._subplots.AxesSubplot at 0x11b92438>"
      ]
     },
     "execution_count": 43,
     "metadata": {},
     "output_type": "execute_result"
    },
    {
     "data": {
      "image/png": "[encoded data removed]",
      "text/plain": [
       "<matplotlib.figure.Figure at 0x10e74c88>"
      ]
     },
     "metadata": {},
     "output_type": "display_data"
    }
   ],
   "source": [
    "df.NumberOfDependents.plot.box(grid=True)"
   ]
  },
  {
   "cell_type": "markdown",
   "metadata": {},
   "source": [
    "### 数据切分\n",
    "    将数据进行切分，分成训练集和测试集两部分"
   ]
  },
  {
   "cell_type": "code",
   "execution_count": 44,
   "metadata": {},
   "outputs": [
    {
     "name": "stderr",
     "output_type": "stream",
     "text": [
      "D:\\software\\anaconda\\anaconda\\lib\\site-packages\\sklearn\\cross_validation.py:41: DeprecationWarning: This module was deprecated in version 0.18 in favor of the model_selection module into which all the refactored classes and functions are moved. Also note that the interface of the new CV iterators are different from that of this module. This module will be removed in 0.20.\n",
      "  \"This module will be removed in 0.20.\", DeprecationWarning)\n"
     ]
    }
   ],
   "source": [
    "from sklearn.cross_validation import train_test_split"
   ]
  },
  {
   "cell_type": "code",
   "execution_count": 45,
   "metadata": {
    "collapsed": true
   },
   "outputs": [],
   "source": [
    "Y = df[\"SeriousDlqin2yrs\"]\n",
    "X = df.iloc[:, 1:]\n",
    "# 测试和训练数据进行3：7的比例进行切分 random_state定一个值是的每次运行的时候不会被随机分\n",
    "X_train, X_test, Y_train, Y_test = train_test_split(X, Y, test_size=0.3, random_state=123)\n",
    "\n",
    "train = pd.concat([Y_train, X_train], axis=1)\n",
    "test = pd.concat([Y_test, X_test], axis=1)\n",
    "\n",
    "train.to_csv('TrainData.csv',index=False)\n",
    "test.to_csv('TestData.csv',index=False)"
   ]
  },
  {
   "cell_type": "markdown",
   "metadata": {},
   "source": [
    "### 探索性数据分析\n",
    "    一般采用直方图、散点图和箱线图等来进行分析"
   ]
  },
  {
   "cell_type": "code",
   "execution_count": 46,
   "metadata": {},
   "outputs": [
    {
     "data": {
      "image/png": "[encoded data removed]",
      "text/plain": [
       "<matplotlib.figure.Figure at 0x11bebba8>"
      ]
     },
     "metadata": {},
     "output_type": "display_data"
    }
   ],
   "source": [
    "# 下面利用直方图和核密度估计画图，Age、MonthlyIncome、NumberOfOpenCreditLinesAndLoans大致呈正太分布，符合统计分析\n",
    "\n",
    "fig = plt.figure()\n",
    "fig.set(alpha=0.2)\n",
    "\n",
    "plt.subplot2grid((2, 3), (0, 0))\n",
    "train[\"age\"].plot(kind=\"hist\", bins=30, figsize=(12, 6), grid=True)\n",
    "plt.title(\"Hist of Age\")\n",
    "\n",
    "plt.subplot2grid((2, 3), (0, 1))\n",
    "train[\"age\"].plot(kind=\"kde\", grid=True)\n",
    "plt.title(\"KDE of Age\")\n",
    "\n",
    "plt.subplot2grid((2, 3), (0, 2))\n",
    "train[\"MonthlyIncome\"].plot(kind=\"kde\", grid=True)\n",
    "plt.xlim(-20000, 80000)\n",
    "plt.title(\"KDE of MonthlyIncome\")\n",
    "\n",
    "plt.subplot2grid((2, 3), (1, 0))\n",
    "train[\"NumberOfDependents\"].plot(kind=\"kde\")\n",
    "plt.title(\"KDE of NumberOfDependents\")\n",
    "\n",
    "plt.subplot2grid((2, 3), (1, 1))\n",
    "train[\"NumberOfOpenCreditLinesAndLoans\"].plot(kind=\"kde\")\n",
    "plt.title(\"KDE of NumberOfOpenCreditLinesAndLoans\")\n",
    "\n",
    "plt.subplot2grid((2, 3), (1, 2))\n",
    "train[\"NumberRealEstateLoansOrLines\"].plot(kind=\"kde\")\n",
    "plt.title(\"KDE of NumberRealEstateLoansOrLines\")\n",
    "\n",
    "# 解决中文的显示问题\n",
    "plt.rcParams[\"font.sans-serif\"]=[\"SimHei\"]\n",
    "plt.rcParams[\"axes.unicode_minus\"] = False\n",
    "\n",
    "plt.tight_layout() # 调整子图之间的间距，紧凑显示图像\n",
    "plt.show()"
   ]
  },
  {
   "cell_type": "markdown",
   "metadata": {
    "collapsed": true
   },
   "source": [
    "### 特征选择\n",
    "    变量分箱：\n",
    "    \n",
    "        将连续变量离散化\n",
    "           \n",
    "        将多状态的离散变量合并成少状态\n",
    "              \n",
    "    变量分箱的重要性：\n",
    "    \n",
    "        1、稳定性：避免特征中无意义的波动对评分带来波动\n",
    "        \n",
    "        2、健壮性：避免极端值的影响\n",
    "        \n",
    "     变量分箱的优势：\n",
    "     \n",
    "         1、可以将缺失值作为一个独立的箱带入模型中\n",
    "         \n",
    "         2、将所有的变量变换到相似的尺度上\n",
    "         \n",
    "     变量分箱的劣势：\n",
    "     \n",
    "         1、计算量大\n",
    "         \n",
    "         2、分箱之后需要编码\n",
    "      \n",
    "     变量分箱常用的方法：\n",
    "     \n",
    "         有监督的：\n",
    "            \n",
    "            1、Best-KS； 2、ChiMerge（卡方分箱法）\n",
    "        \n",
    "         无监督的：\n",
    "            \n",
    "            1、等距； 2、等频； 3、聚类"
   ]
  },
  {
   "cell_type": "code",
   "execution_count": 47,
   "metadata": {
    "collapsed": true
   },
   "outputs": [],
   "source": [
    "import scipy.stats.stats as stats\n",
    "\n",
    "# 自定义自动分箱函数\n",
    "def mono_bin(Y, X, n=20):\n",
    "    r = 0\n",
    "    good = Y.sum()\n",
    "    bad = Y.count() - good\n",
    "    while np.abs(r) < 1:\n",
    "        d1 = pd.DataFrame({\"X\": X, \"Y\": Y, \"Bucket\": pd.qcut(X.rank(method=\"first\"), n)}) # X.rank(method=\"first\")\n",
    "        d2 = d1.groupby(\"Bucket\", as_index = True)\n",
    "        r, p = stats.spearmanr(d2.mean().X, d2.mean().Y) # 使用斯皮尔曼等级相关系数来评估两个变量之间的相关性\n",
    "        n = n - 1\n",
    "    d3 = pd.DataFrame(d2.X.min(), columns = ['min'])\n",
    "    d3['min']=d2.min().X\n",
    "    d3['max'] = d2.max().X\n",
    "    d3['sum'] = d2.sum().Y\n",
    "    d3['total'] = d2.count().Y\n",
    "    d3['rate'] = d2.mean().Y\n",
    "    d3['woe'] = np.log((d3['rate'] / (1-d3['rate'])) / (good/bad))\n",
    "    d3['goodattribute'] = d3['sum'] / good\n",
    "    d3['badattribute'] = (d3['total'] - d3['sum']) / bad\n",
    "    iv = ((d3['goodattribute'] - d3['badattribute']) * d3['woe']).sum()\n",
    "    d4 = (d3.sort_values(by = 'min'))\n",
    "    print(d4)\n",
    "    cut=[]\n",
    "    cut.append(float('-inf'))\n",
    "    for i in range(1, n+1):\n",
    "        qua = X.quantile(i/(n+1))\n",
    "        cut.append(round(qua,4))\n",
    "    cut.append(float('inf'))\n",
    "    woe = list(d4['woe'].round(3))\n",
    "    return d4, iv, cut, woe"
   ]
  },
  {
   "cell_type": "code",
   "execution_count": 48,
   "metadata": {
    "collapsed": true
   },
   "outputs": [],
   "source": [
    "# 自定义分箱函数\n",
    "def self_bin(Y, X, cat):\n",
    "    good = Y.sum()\n",
    "    bad = Y.count() - good\n",
    "    d1 = pd.DataFrame({'X': X, 'Y': Y,'Bucket': pd.cut(X, cat)})\n",
    "    d2 = d1.groupby('Bucket', as_index = True)\n",
    "    d3 = pd.DataFrame(d2.X.min(), columns=['min'])\n",
    "    d3['min'] = d2.min().X\n",
    "    d3['max'] = d2.max().X\n",
    "    d3['sum'] = d2.sum().Y\n",
    "    d3['total'] = d2.count().Y\n",
    "    d3['rate'] = d2.mean().Y\n",
    "    d3['woe'] = np.log((d3['rate'] / (1 - d3['rate'])) / (good / bad))\n",
    "    d3['goodattribute'] = d3['sum'] / good\n",
    "    d3['badattribute'] = (d3['total'] - d3['sum']) / bad\n",
    "    iv = ((d3['goodattribute'] - d3['badattribute']) * d3['woe']).sum()\n",
    "    d4 = (d3.sort_values(by = 'min'))\n",
    "    print(d4)\n",
    "    woe = list(d4['woe'].round(3))\n",
    "    return d4, iv, woe"
   ]
  },
  {
   "cell_type": "code",
   "execution_count": 49,
   "metadata": {},
   "outputs": [
    {
     "name": "stdout",
     "output_type": "stream",
     "text": [
      "                          min       max   sum  total      rate       woe  \\\n",
      "Bucket                                                                     \n",
      "(0.999, 25474.0]     0.000000  0.031258   464  25474  0.018215 -1.370448   \n",
      "(25474.0, 50947.0]   0.031260  0.158295   542  25473  0.021277 -1.211902   \n",
      "(50947.0, 76420.0]   0.158306  0.560505  1323  25473  0.051937 -0.287684   \n",
      "(76420.0, 101893.0]  0.560523  2.000000  4607  25473  0.180858  1.106155   \n",
      "\n",
      "                     goodattribute  badattribute  \n",
      "Bucket                                            \n",
      "(0.999, 25474.0]          0.066897      0.263382  \n",
      "(25474.0, 50947.0]        0.078143      0.262550  \n",
      "(50947.0, 76420.0]        0.190744      0.254326  \n",
      "(76420.0, 101893.0]       0.664216      0.219742  \n"
     ]
    }
   ],
   "source": [
    "dfx1, ivx1, cutx1, woex1 = mono_bin(train.SeriousDlqin2yrs, train.RevolvingUtilizationOfUnsecuredLines, n=10)"
   ]
  },
  {
   "cell_type": "code",
   "execution_count": 50,
   "metadata": {},
   "outputs": [
    {
     "name": "stdout",
     "output_type": "stream",
     "text": [
      "                        min  max   sum  total      rate       woe  \\\n",
      "Bucket                                                              \n",
      "(0.999, 11322.333]       21   33  1317  11322  0.116322  0.588970   \n",
      "(11322.333, 22643.667]   33   40  1078  11321  0.095221  0.365212   \n",
      "(22643.667, 33965.0]     40   45   984  11322  0.086910  0.264743   \n",
      "(33965.0, 45286.333]     45   49   934  11321  0.082502  0.207865   \n",
      "(45286.333, 56607.667]   49   54   839  11321  0.074110  0.091495   \n",
      "(56607.667, 67929.0]     54   59   667  11322  0.058912 -0.154296   \n",
      "(67929.0, 79250.333]     59   63   511  11321  0.045137 -0.435158   \n",
      "(79250.333, 90571.667]   63   71   331  11321  0.029238 -0.885924   \n",
      "(90571.667, 101893.0]    71  107   275  11322  0.024289 -1.076444   \n",
      "\n",
      "                        goodattribute  badattribute  \n",
      "Bucket                                               \n",
      "(0.999, 11322.333]           0.189879      0.105363  \n",
      "(11322.333, 22643.667]       0.155421      0.107870  \n",
      "(22643.667, 33965.0]         0.141869      0.108870  \n",
      "(33965.0, 45286.333]         0.134660      0.109386  \n",
      "(45286.333, 56607.667]       0.120963      0.110387  \n",
      "(56607.667, 67929.0]         0.096165      0.112209  \n",
      "(67929.0, 79250.333]         0.073674      0.113841  \n",
      "(79250.333, 90571.667]       0.047722      0.115737  \n",
      "(90571.667, 101893.0]        0.039648      0.116337  \n"
     ]
    }
   ],
   "source": [
    "dfx2, ivx2, cutx2, woex2 = mono_bin(train.SeriousDlqin2yrs, train.age, n=10)"
   ]
  },
  {
   "cell_type": "code",
   "execution_count": 51,
   "metadata": {
    "collapsed": true
   },
   "outputs": [],
   "source": [
    "pinf = float('inf') # 正无穷大\n",
    "ninf = float('-inf') # 负无穷大"
   ]
  },
  {
   "cell_type": "code",
   "execution_count": 52,
   "metadata": {},
   "outputs": [
    {
     "name": "stdout",
     "output_type": "stream",
     "text": [
      "             min   max   sum  total      rate       woe  goodattribute  \\\n",
      "Bucket                                                                   \n",
      "(-inf, 0.0]  0.0   0.0  3571  85522  0.041755 -0.516577       0.514850   \n",
      "(0.0, 1.0]   1.0   1.0  1694  11086  0.152805  0.903933       0.244233   \n",
      "(1.0, 3.0]   2.0   3.0  1268   4383  0.289300  1.717911       0.182814   \n",
      "(3.0, 5.0]   4.0   5.0   324    744  0.435484  2.357188       0.046713   \n",
      "(5.0, inf]   6.0  13.0    79    158  0.500000  2.616699       0.011390   \n",
      "\n",
      "             badattribute  \n",
      "Bucket                     \n",
      "(-inf, 0.0]      0.863033  \n",
      "(0.0, 1.0]       0.098908  \n",
      "(1.0, 3.0]       0.032804  \n",
      "(3.0, 5.0]       0.004423  \n",
      "(5.0, inf]       0.000832  \n"
     ]
    }
   ],
   "source": [
    "cutx3 = [ninf, 0, 1, 3, 5, pinf]\n",
    "dfx3, ivx3, woex3 = self_bin(train.SeriousDlqin2yrs, train[\"NumberOfTime30-59DaysPastDueNotWorse\"], cutx3)"
   ]
  },
  {
   "cell_type": "code",
   "execution_count": 53,
   "metadata": {},
   "outputs": [
    {
     "data": {
      "text/plain": [
       "count    145562.000000\n",
       "mean          0.571777\n",
       "std           0.546250\n",
       "min           0.000000\n",
       "25%           0.173933\n",
       "50%           0.359088\n",
       "75%           0.770648\n",
       "max           1.566521\n",
       "Name: DebtRatio, dtype: float64"
      ]
     },
     "execution_count": 53,
     "metadata": {},
     "output_type": "execute_result"
    }
   ],
   "source": [
    "df.DebtRatio.describe()"
   ]
  },
  {
   "cell_type": "code",
   "execution_count": 54,
   "metadata": {},
   "outputs": [
    {
     "name": "stdout",
     "output_type": "stream",
     "text": [
      "                          min       max   sum  total      rate       woe  \\\n",
      "Bucket                                                                     \n",
      "(0.999, 33965.0]     0.000000  0.235771  2075  33965  0.061092 -0.115632   \n",
      "(33965.0, 67929.0]   0.235790  0.544337  2154  33964  0.063420 -0.075755   \n",
      "(67929.0, 101893.0]  0.544357  1.566521  2707  33964  0.079702  0.170297   \n",
      "\n",
      "                     goodattribute  badattribute  \n",
      "Bucket                                            \n",
      "(0.999, 33965.0]          0.299164      0.335836  \n",
      "(33965.0, 67929.0]        0.310554      0.334994  \n",
      "(67929.0, 101893.0]       0.390283      0.329170  \n"
     ]
    }
   ],
   "source": [
    "dfx4, ivx4, cutx4, woex4 = mono_bin(train.SeriousDlqin2yrs, train.DebtRatio, n=20)"
   ]
  },
  {
   "cell_type": "code",
   "execution_count": 55,
   "metadata": {},
   "outputs": [
    {
     "name": "stdout",
     "output_type": "stream",
     "text": [
      "                        min      max   sum  total      rate       woe  \\\n",
      "Bucket                                                                  \n",
      "(0.999, 33965.0]        0.0   3400.0  2747  33965  0.080877  0.186213   \n",
      "(33965.0, 67929.0]   3400.0   6845.0  2553  33964  0.075168  0.106810   \n",
      "(67929.0, 101893.0]  6845.0  17694.0  1636  33964  0.048169 -0.366981   \n",
      "\n",
      "                     goodattribute  badattribute  \n",
      "Bucket                                            \n",
      "(0.999, 33965.0]          0.396050      0.328759  \n",
      "(33965.0, 67929.0]        0.368080      0.330792  \n",
      "(67929.0, 101893.0]       0.235871      0.340449  \n"
     ]
    }
   ],
   "source": [
    "dfx5, ivx5, cutx5, woex5 = mono_bin(train.SeriousDlqin2yrs, train.MonthlyIncome, n=10)"
   ]
  },
  {
   "cell_type": "code",
   "execution_count": 56,
   "metadata": {},
   "outputs": [
    {
     "name": "stdout",
     "output_type": "stream",
     "text": [
      "             min  max   sum  total      rate       woe  goodattribute  \\\n",
      "Bucket                                                                  \n",
      "(-inf, 1.0]    0    1   714   3827  0.186569  1.144240       0.102941   \n",
      "(1.0, 2.0]     2    2   410   4343  0.094405  0.355698       0.059112   \n",
      "(2.0, 3.0]     3    3   464   5970  0.077722  0.142990       0.066897   \n",
      "(3.0, 5.0]     4    5  1111  16589  0.066972 -0.017460       0.160179   \n",
      "(5.0, inf]     6   24  4237  71164  0.059539 -0.143048       0.610871   \n",
      "\n",
      "             badattribute  \n",
      "Bucket                     \n",
      "(-inf, 1.0]      0.032783  \n",
      "(1.0, 2.0]       0.041419  \n",
      "(2.0, 3.0]       0.057984  \n",
      "(3.0, 5.0]       0.163000  \n",
      "(5.0, inf]       0.704814  \n"
     ]
    }
   ],
   "source": [
    "cutx6 = [ninf, 1, 2, 3, 5, pinf]\n",
    "dfx6, ivx6, woex6 = self_bin(train.SeriousDlqin2yrs, train.NumberOfOpenCreditLinesAndLoans, cutx6)"
   ]
  },
  {
   "cell_type": "code",
   "execution_count": 57,
   "metadata": {},
   "outputs": [
    {
     "name": "stdout",
     "output_type": "stream",
     "text": [
      "             min   max   sum  total      rate       woe  goodattribute  \\\n",
      "Bucket                                                                   \n",
      "(-inf, 0.0]  0.0   0.0  4656  96308  0.048345 -0.363143       0.671280   \n",
      "(0.0, 1.0]   1.0   1.0  1206   3608  0.334257  1.927706       0.173875   \n",
      "(1.0, 3.0]   2.0   3.0   785   1542  0.509079  2.653019       0.113178   \n",
      "(3.0, inf]   4.0  15.0   289    435  0.664368  3.299519       0.041667   \n",
      "\n",
      "             badattribute  \n",
      "Bucket                     \n",
      "(-inf, 0.0]      0.965195  \n",
      "(0.0, 1.0]       0.025296  \n",
      "(1.0, 3.0]       0.007972  \n",
      "(3.0, inf]       0.001538  \n"
     ]
    }
   ],
   "source": [
    "cutx7 = [ninf, 0, 1, 3, pinf]\n",
    "dfx7, ivx7, woex7 = self_bin(train.SeriousDlqin2yrs, train[\"NumberOfTimes90DaysLate\"], cutx7)"
   ]
  },
  {
   "cell_type": "code",
   "execution_count": 58,
   "metadata": {},
   "outputs": [
    {
     "name": "stdout",
     "output_type": "stream",
     "text": [
      "             min  max   sum  total      rate       woe  goodattribute  \\\n",
      "Bucket                                                                  \n",
      "(-inf, 0.0]    0    0  3226  37444  0.086155  0.255190       0.465110   \n",
      "(0.0, 1.0]     1    1  1863  35769  0.052084 -0.284705       0.268599   \n",
      "(1.0, 2.0]     2    2  1254  21766  0.057613 -0.177973       0.180796   \n",
      "(2.0, 3.0]     3    3   293   4356  0.067264 -0.012805       0.042243   \n",
      "(3.0, inf]     4   17   300   2558  0.117279  0.598247       0.043253   \n",
      "\n",
      "             badattribute  \n",
      "Bucket                     \n",
      "(-inf, 0.0]      0.360353  \n",
      "(0.0, 1.0]       0.357067  \n",
      "(1.0, 2.0]       0.216014  \n",
      "(2.0, 3.0]       0.042788  \n",
      "(3.0, inf]       0.023779  \n"
     ]
    }
   ],
   "source": [
    "cutx8 = [ninf, 0, 1, 2, 3, pinf]\n",
    "dfx8, ivx8, woex8 = self_bin(train.SeriousDlqin2yrs, train[\"NumberRealEstateLoansOrLines\"], cutx8)"
   ]
  },
  {
   "cell_type": "code",
   "execution_count": 59,
   "metadata": {},
   "outputs": [
    {
     "name": "stdout",
     "output_type": "stream",
     "text": [
      "             min   max   sum  total      rate       woe  goodattribute  \\\n",
      "Bucket                                                                   \n",
      "(-inf, 0.0]  0.0   0.0  5107  96788  0.052765 -0.271004       0.736303   \n",
      "(0.0, 1.0]   1.0   1.0  1243   4000  0.310750  1.820084       0.179210   \n",
      "(1.0, 3.0]   2.0   3.0   517    994  0.520121  2.697225       0.074539   \n",
      "(3.0, inf]   4.0  11.0    69    111  0.621622  3.113136       0.009948   \n",
      "\n",
      "             badattribute  \n",
      "Bucket                     \n",
      "(-inf, 0.0]      0.965500  \n",
      "(0.0, 1.0]       0.029034  \n",
      "(1.0, 3.0]       0.005023  \n",
      "(3.0, inf]       0.000442  \n"
     ]
    }
   ],
   "source": [
    "cutx9 = [ninf, 0, 1, 3, pinf]\n",
    "dfx9, ivx9, woex9 = self_bin(train.SeriousDlqin2yrs, train[\"NumberOfTime60-89DaysPastDueNotWorse\"], cutx9)"
   ]
  },
  {
   "cell_type": "code",
   "execution_count": 60,
   "metadata": {},
   "outputs": [
    {
     "name": "stdout",
     "output_type": "stream",
     "text": [
      "             min   max   sum  total      rate       woe  goodattribute  \\\n",
      "Bucket                                                                   \n",
      "(-inf, 0.0]  0.0   0.0  3579  60340  0.059314 -0.147067       0.516003   \n",
      "(0.0, 1.0]   1.0   1.0  1344  18421  0.072960  0.074617       0.193772   \n",
      "(1.0, 2.0]   2.0   2.0  1125  13668  0.082309  0.205319       0.162197   \n",
      "(2.0, inf]   3.0  10.0   888   9464  0.093829  0.348948       0.128028   \n",
      "\n",
      "             badattribute  \n",
      "Bucket                     \n",
      "(-inf, 0.0]      0.597755  \n",
      "(0.0, 1.0]       0.179839  \n",
      "(1.0, 2.0]       0.132091  \n",
      "(2.0, inf]       0.090315  \n"
     ]
    }
   ],
   "source": [
    "cutx10 = [ninf, 0, 1, 2, pinf]\n",
    "dfx10, ivx10, woex10 = self_bin(train.SeriousDlqin2yrs, train[\"NumberOfDependents\"], cutx10)"
   ]
  },
  {
   "cell_type": "markdown",
   "metadata": {},
   "source": [
    "### 相关性分析和IV筛选"
   ]
  },
  {
   "cell_type": "code",
   "execution_count": 61,
   "metadata": {},
   "outputs": [
    {
     "data": {
      "image/png": "[encoded data removed]",
      "text/plain": [
       "<matplotlib.figure.Figure at 0x146a18d0>"
      ]
     },
     "metadata": {},
     "output_type": "display_data"
    }
   ],
   "source": [
    "corr = train.corr() # 计算各变量的相关性系数\n",
    "xticks = ['x0','x1','x2','x3','x4','x5','x6','x7','x8','x9','x10'] # x轴标签\n",
    "yticks = list(corr.index) # y轴标签\n",
    "fig = plt.figure(figsize=(10, 10))\n",
    "ax = fig.add_subplot(1, 1, 1)\n",
    "sns.heatmap(corr, annot=True, cmap='rainbow', ax=ax,\n",
    "            annot_kws={'size': 12, 'weight': 'bold', 'color': 'blue'}) # 绘制相关性系数热力图\n",
    "ax.set_xticklabels(xticks, rotation=0, fontsize=12)\n",
    "ax.set_yticklabels(yticks, rotation=0, fontsize=12)\n",
    "plt.show()"
   ]
  },
  {
   "cell_type": "markdown",
   "metadata": {},
   "source": [
    "### 上图可以看出变量之间的相关性都较小，但是 NumberOfOpenCreditLinesAndLoans 和 NumberRealEstateLoansOrLines 相对来说较大为0.43"
   ]
  },
  {
   "cell_type": "code",
   "execution_count": 62,
   "metadata": {},
   "outputs": [
    {
     "data": {
      "image/png": "[encoded data removed]",
      "text/plain": [
       "<matplotlib.figure.Figure at 0x14ab1b70>"
      ]
     },
     "metadata": {},
     "output_type": "display_data"
    }
   ],
   "source": [
    "ivlist = [ivx1, ivx2, ivx3, ivx4, ivx5, ivx6, ivx7, ivx8, ivx9, ivx10] # 各变量IV\n",
    "index = ['x1','x2','x3','x4','x5','x6','x7','x8','x9','x10'] # x轴的标签\n",
    "fig1 = plt.figure(figsize=(8, 8))\n",
    "ax1 = fig1.add_subplot(1, 1, 1)\n",
    "x = np.arange(len(index)) + 1\n",
    "ax1.bar(x, ivlist, width=0.4) # 生成柱状图\n",
    "ax1.set_xticks(x)\n",
    "ax1.set_xticklabels(index, rotation=0, fontsize=12)\n",
    "ax1.set_ylabel('IV(Information Value)', fontsize=12)\n",
    "# 在柱状图上添加数字标签\n",
    "for a, b in zip(x, ivlist):\n",
    "    plt.text(a, b + 0.01, '%.4f' % b, ha='center', va='bottom', fontsize=10)\n",
    "plt.show()"
   ]
  },
  {
   "cell_type": "markdown",
   "metadata": {
    "collapsed": true
   },
   "source": [
    "通过IV值判断变量预测能力的标准是：\n",
    "\n",
    "**< 0.02: unpredictive**\n",
    "\n",
    "**0.02 to 0.1: weak**\n",
    "\n",
    "**0.1 to 0.3: medium**\n",
    "\n",
    "**0.3 to 0.5: strong**\n",
    "\n",
    "**> 0.5: suspicious**\n",
    "\n",
    "DebtRatio、MonthlyIncome、NumberRealEstateLoansOrLines 和 NumberOfDependents 变量的IV值明显较低"
   ]
  },
  {
   "cell_type": "markdown",
   "metadata": {},
   "source": [
    "### 模型分析\n",
    "    WOE转换:\n",
    "        证据权重（Weight of Evidence,WOE）转换可以将Logistic回归模型转变为标准评分卡格式"
   ]
  },
  {
   "cell_type": "code",
   "execution_count": 63,
   "metadata": {
    "collapsed": true
   },
   "outputs": [],
   "source": [
    "# 替换成woe函数\n",
    "def replace_woe(series, cut, woe):\n",
    "    list = []\n",
    "    i = 0\n",
    "    while i < len(series):\n",
    "        value = series[i]\n",
    "        j = len(cut)-2\n",
    "        m = len(cut)-2\n",
    "        while j >= 0:\n",
    "            if value >= cut[j]:\n",
    "                j = -1\n",
    "            else:\n",
    "                j -= 1\n",
    "                m -= 1\n",
    "        list.append(woe[m])\n",
    "        i += 1\n",
    "    return list"
   ]
  },
  {
   "cell_type": "code",
   "execution_count": 64,
   "metadata": {
    "collapsed": true
   },
   "outputs": [],
   "source": [
    "from pandas import Series\n",
    "train = pd.read_csv(\"./TrainData.csv\")\n",
    "train['RevolvingUtilizationOfUnsecuredLines'] = Series(replace_woe(train['RevolvingUtilizationOfUnsecuredLines'], cutx1, woex1))\n",
    "train['age'] = Series(replace_woe(train['age'], cutx2, woex2))\n",
    "train['NumberOfTime30-59DaysPastDueNotWorse'] = Series(replace_woe(train['NumberOfTime30-59DaysPastDueNotWorse'], cutx3, woex3))\n",
    "train['DebtRatio'] = Series(replace_woe(train['DebtRatio'], cutx4, woex4))\n",
    "train['MonthlyIncome'] = Series(replace_woe(train['MonthlyIncome'], cutx5, woex5))\n",
    "train['NumberOfOpenCreditLinesAndLoans'] = Series(replace_woe(train['NumberOfOpenCreditLinesAndLoans'], cutx6, woex6))\n",
    "train['NumberOfTimes90DaysLate'] = Series(replace_woe(train['NumberOfTimes90DaysLate'], cutx7, woex7))\n",
    "train['NumberRealEstateLoansOrLines'] = Series(replace_woe(train['NumberRealEstateLoansOrLines'], cutx8, woex8))\n",
    "train['NumberOfTime60-89DaysPastDueNotWorse'] = Series(replace_woe(train['NumberOfTime60-89DaysPastDueNotWorse'], cutx9, woex9))\n",
    "train['NumberOfDependents'] = Series(replace_woe(train['NumberOfDependents'], cutx10, woex10))\n",
    "train.to_csv('Woetrain.csv', index=False)"
   ]
  },
  {
   "cell_type": "code",
   "execution_count": 65,
   "metadata": {
    "collapsed": true
   },
   "outputs": [],
   "source": [
    "test = pd.read_csv('TestData.csv')\n",
    "# 替换成woe\n",
    "test['RevolvingUtilizationOfUnsecuredLines'] = Series(replace_woe(test['RevolvingUtilizationOfUnsecuredLines'], cutx1, woex1))\n",
    "test['age'] = Series(replace_woe(test['age'], cutx2, woex2))\n",
    "test['NumberOfTime30-59DaysPastDueNotWorse'] = Series(replace_woe(test['NumberOfTime30-59DaysPastDueNotWorse'], cutx3, woex3))\n",
    "test['DebtRatio'] = Series(replace_woe(test['DebtRatio'], cutx4, woex4))\n",
    "test['MonthlyIncome'] = Series(replace_woe(test['MonthlyIncome'], cutx5, woex5))\n",
    "test['NumberOfOpenCreditLinesAndLoans'] = Series(replace_woe(test['NumberOfOpenCreditLinesAndLoans'], cutx6, woex6))\n",
    "test['NumberOfTimes90DaysLate'] = Series(replace_woe(test['NumberOfTimes90DaysLate'], cutx7, woex7))\n",
    "test['NumberRealEstateLoansOrLines'] = Series(replace_woe(test['NumberRealEstateLoansOrLines'], cutx8, woex8))\n",
    "test['NumberOfTime60-89DaysPastDueNotWorse'] = Series(replace_woe(test['NumberOfTime60-89DaysPastDueNotWorse'], cutx9, woex9))\n",
    "test['NumberOfDependents'] = Series(replace_woe(test['NumberOfDependents'], cutx10, woex10))\n",
    "test.to_csv('TestWoeData.csv', index=False)"
   ]
  },
  {
   "cell_type": "markdown",
   "metadata": {},
   "source": [
    "### 模型预测"
   ]
  },
  {
   "cell_type": "code",
   "execution_count": 127,
   "metadata": {},
   "outputs": [],
   "source": [
    "from sklearn.cross_validation import cross_val_score\n",
    "\n",
    "def cvDictGen(functions, scr, X_train=X_train, Y_train=Y_train, cv=10, verbose=1):\n",
    "    cvDict = {}\n",
    "    for func in functions:\n",
    "        cvScore = cross_val_score(func, X_train, Y_train, cv=cv, verbose=verbose, scoring=scr)\n",
    "        cvDict[str(func).split('(')[0]] = [cvScore.mean(), cvScore.std()]\n",
    "    \n",
    "    return cvDict\n",
    "\n",
    "def cvDictNormalize(cvDict):\n",
    "    cvDictNormalized = {}\n",
    "    for key in cvDict.keys():\n",
    "        for i in cvDict[key]:\n",
    "            cvDictNormalized[key] = ['{:0.2f}'.format((cvDict[key][0]/cvDict[list(cvDict.keys())[0]][0])),\n",
    "                                     '{:0.2f}'.format((cvDict[key][1]/cvDict[list(cvDict.keys())[0]][1]))]\n",
    "    return cvDictNormalized"
   ]
  },
  {
   "cell_type": "code",
   "execution_count": 93,
   "metadata": {
    "collapsed": true
   },
   "outputs": [],
   "source": [
    "from sklearn.linear_model import LogisticRegression\n",
    "from sklearn.ensemble import AdaBoostClassifier, GradientBoostingClassifier, RandomForestClassifier\n",
    "from sklearn.neighbors import KNeighborsClassifier"
   ]
  },
  {
   "cell_type": "code",
   "execution_count": 128,
   "metadata": {
    "collapsed": true
   },
   "outputs": [],
   "source": [
    "knMod = KNeighborsClassifier(n_neighbors=5, weights='uniform', algorithm='auto', leaf_size=30, p=2,\n",
    "                             metric='minkowski', metric_params=None)"
   ]
  },
  {
   "cell_type": "code",
   "execution_count": 129,
   "metadata": {
    "collapsed": true
   },
   "outputs": [],
   "source": [
    "lrMod = LogisticRegression(penalty='l1', dual=False, tol=0.0001, C=1.0, fit_intercept=True,\n",
    "                            intercept_scaling=1, class_weight=None, random_state=None, solver='liblinear', max_iter=100,\n",
    "                            multi_class='ovr', verbose=2)"
   ]
  },
  {
   "cell_type": "code",
   "execution_count": 130,
   "metadata": {
    "collapsed": true
   },
   "outputs": [],
   "source": [
    "adaMod = AdaBoostClassifier(base_estimator=None, n_estimators=200, learning_rate=1.0)"
   ]
  },
  {
   "cell_type": "code",
   "execution_count": 131,
   "metadata": {
    "collapsed": true
   },
   "outputs": [],
   "source": [
    "gbMod = GradientBoostingClassifier(loss='deviance', learning_rate=0.1, n_estimators=200, subsample=1.0,\n",
    "                                   min_samples_split=2, min_samples_leaf=1, min_weight_fraction_leaf=0.0, max_depth=3,\n",
    "                                   init=None, random_state=None, max_features=None, verbose=0)"
   ]
  },
  {
   "cell_type": "code",
   "execution_count": 132,
   "metadata": {
    "collapsed": true
   },
   "outputs": [],
   "source": [
    "rfMod = RandomForestClassifier(n_estimators=10, criterion='gini', max_depth=None, min_samples_split=2,\n",
    "                               min_samples_leaf=1, min_weight_fraction_leaf=0.0, max_features='auto',\n",
    "                               max_leaf_nodes=None, bootstrap=True, oob_score=False, n_jobs=1, random_state=None, verbose=0)"
   ]
  },
  {
   "cell_type": "code",
   "execution_count": 133,
   "metadata": {},
   "outputs": [
    {
     "name": "stderr",
     "output_type": "stream",
     "text": [
      "[Parallel(n_jobs=1)]: Done  10 out of  10 | elapsed:   14.0s finished\n"
     ]
    },
    {
     "name": "stdout",
     "output_type": "stream",
     "text": [
      "[LibLinear][LibLinear][LibLinear][LibLinear][LibLinear][LibLinear][LibLinear][LibLinear][LibLinear][LibLinear]"
     ]
    },
    {
     "name": "stderr",
     "output_type": "stream",
     "text": [
      "[Parallel(n_jobs=1)]: Done  10 out of  10 | elapsed:    7.7s finished\n",
      "[Parallel(n_jobs=1)]: Done  10 out of  10 | elapsed:  4.4min finished\n",
      "[Parallel(n_jobs=1)]: Done  10 out of  10 | elapsed:  5.0min finished\n",
      "[Parallel(n_jobs=1)]: Done  10 out of  10 | elapsed:   32.7s finished\n"
     ]
    }
   ],
   "source": [
    "cvD = cvDictGen(functions=[knMod, lrMod, adaMod, gbMod, rfMod], scr='roc_auc')"
   ]
  },
  {
   "cell_type": "code",
   "execution_count": 136,
   "metadata": {},
   "outputs": [
    {
     "data": {
      "text/plain": [
       "{'AdaBoostClassifier': [0.85833526931636717, 0.0037927708585720095],\n",
       " 'GradientBoostingClassifier': [0.86390791252722998, 0.0033998590788060267],\n",
       " 'KNeighborsClassifier': [0.58889869147901397, 0.011290276615075525],\n",
       " 'LogisticRegression': [0.85008299151287425, 0.0038035141532396718],\n",
       " 'RandomForestClassifier': [0.78156197848479758, 0.011179708285051989]}"
      ]
     },
     "execution_count": 136,
     "metadata": {},
     "output_type": "execute_result"
    }
   ],
   "source": [
    "cvD"
   ]
  },
  {
   "cell_type": "code",
   "execution_count": 137,
   "metadata": {},
   "outputs": [
    {
     "data": {
      "text/plain": [
       "{'AdaBoostClassifier': ['1.46', '0.34'],\n",
       " 'GradientBoostingClassifier': ['1.47', '0.30'],\n",
       " 'KNeighborsClassifier': ['1.00', '1.00'],\n",
       " 'LogisticRegression': ['1.44', '0.34'],\n",
       " 'RandomForestClassifier': ['1.33', '0.99']}"
      ]
     },
     "execution_count": 137,
     "metadata": {},
     "output_type": "execute_result"
    }
   ],
   "source": [
    "cvDictNormalize(cvD)"
   ]
  },
  {
   "cell_type": "markdown",
   "metadata": {},
   "source": [
    "AdaBoost 、 GB 、 LR的out-of-the-bag较好"
   ]
  },
  {
   "cell_type": "markdown",
   "metadata": {},
   "source": [
    "### 最优化超参数"
   ]
  },
  {
   "cell_type": "markdown",
   "metadata": {},
   "source": [
    "AdaBoost模型"
   ]
  },
  {
   "cell_type": "code",
   "execution_count": 135,
   "metadata": {
    "collapsed": true
   },
   "outputs": [],
   "source": [
    "from sklearn.grid_search import RandomizedSearchCV\n",
    "from scipy.stats import randintt"
   ]
  },
  {
   "cell_type": "code",
   "execution_count": 139,
   "metadata": {
    "collapsed": true
   },
   "outputs": [],
   "source": [
    "ada_param = {'n_estimators': [10,50,100,200,400],\n",
    "                 'learning_rate': [0.1, 0.05]}"
   ]
  },
  {
   "cell_type": "code",
   "execution_count": 140,
   "metadata": {},
   "outputs": [
    {
     "name": "stdout",
     "output_type": "stream",
     "text": [
      "Fitting 3 folds for each of 5 candidates, totalling 15 fits\n",
      "[CV] n_estimators=10, learning_rate=0.1 ..............................\n",
      "[CV] ..................... n_estimators=10, learning_rate=0.1 -   0.9s\n",
      "[CV] n_estimators=10, learning_rate=0.1 ..............................\n"
     ]
    },
    {
     "name": "stderr",
     "output_type": "stream",
     "text": [
      "[Parallel(n_jobs=1)]: Done   1 out of   1 | elapsed:    1.0s remaining:    0.0s\n"
     ]
    },
    {
     "name": "stdout",
     "output_type": "stream",
     "text": [
      "[CV] ..................... n_estimators=10, learning_rate=0.1 -   0.9s\n",
      "[CV] n_estimators=10, learning_rate=0.1 ..............................\n",
      "[CV] ..................... n_estimators=10, learning_rate=0.1 -   0.9s\n",
      "[CV] n_estimators=400, learning_rate=0.05 ............................\n",
      "[CV] ................... n_estimators=400, learning_rate=0.05 -  39.1s\n",
      "[CV] n_estimators=400, learning_rate=0.05 ............................\n",
      "[CV] ................... n_estimators=400, learning_rate=0.05 -  39.4s\n",
      "[CV] n_estimators=400, learning_rate=0.05 ............................\n",
      "[CV] ................... n_estimators=400, learning_rate=0.05 -  39.4s\n",
      "[CV] n_estimators=50, learning_rate=0.05 .............................\n",
      "[CV] .................... n_estimators=50, learning_rate=0.05 -   4.9s\n",
      "[CV] n_estimators=50, learning_rate=0.05 .............................\n",
      "[CV] .................... n_estimators=50, learning_rate=0.05 -   4.9s\n",
      "[CV] n_estimators=50, learning_rate=0.05 .............................\n",
      "[CV] .................... n_estimators=50, learning_rate=0.05 -   5.0s\n",
      "[CV] n_estimators=100, learning_rate=0.1 .............................\n",
      "[CV] .................... n_estimators=100, learning_rate=0.1 -  10.0s\n",
      "[CV] n_estimators=100, learning_rate=0.1 .............................\n",
      "[CV] .................... n_estimators=100, learning_rate=0.1 -   9.8s\n",
      "[CV] n_estimators=100, learning_rate=0.1 .............................\n",
      "[CV] .................... n_estimators=100, learning_rate=0.1 -  10.4s\n",
      "[CV] n_estimators=400, learning_rate=0.1 .............................\n",
      "[CV] .................... n_estimators=400, learning_rate=0.1 -  39.5s\n",
      "[CV] n_estimators=400, learning_rate=0.1 .............................\n",
      "[CV] .................... n_estimators=400, learning_rate=0.1 -  39.7s\n",
      "[CV] n_estimators=400, learning_rate=0.1 .............................\n",
      "[CV] .................... n_estimators=400, learning_rate=0.1 -  37.8s\n"
     ]
    },
    {
     "name": "stderr",
     "output_type": "stream",
     "text": [
      "[Parallel(n_jobs=1)]: Done  15 out of  15 | elapsed:  4.7min finished\n"
     ]
    }
   ],
   "source": [
    "randomizedSearchAda = RandomizedSearchCV(estimator=adaMod, param_distributions=ada_param, n_iter=5,\n",
    "                                   scoring='roc_auc', fit_params=None, cv=None, verbose=2).fit(X_train, Y_train)"
   ]
  },
  {
   "cell_type": "code",
   "execution_count": 145,
   "metadata": {},
   "outputs": [
    {
     "data": {
      "text/plain": [
       "({'learning_rate': 0.1, 'n_estimators': 400}, 0.8594144267242873)"
      ]
     },
     "execution_count": 145,
     "metadata": {},
     "output_type": "execute_result"
    }
   ],
   "source": [
    "randomizedSearchAda.best_params_, randomizedSearchAda.best_score_"
   ]
  },
  {
   "cell_type": "markdown",
   "metadata": {},
   "source": [
    "GB模型"
   ]
  },
  {
   "cell_type": "code",
   "execution_count": 143,
   "metadata": {},
   "outputs": [],
   "source": [
    "gbParams = {'loss' : ['deviance', 'exponential'],\n",
    "            'n_estimators': [10,50,100,200,400],\n",
    "            'max_depth': randint(1,5),\n",
    "            'learning_rate':[0.1, 0.05]}"
   ]
  },
  {
   "cell_type": "code",
   "execution_count": 146,
   "metadata": {},
   "outputs": [
    {
     "name": "stdout",
     "output_type": "stream",
     "text": [
      "Fitting 3 folds for each of 10 candidates, totalling 30 fits\n",
      "[CV] learning_rate=0.05, loss=exponential, max_depth=4, n_estimators=10 \n",
      "[CV]  learning_rate=0.05, loss=exponential, max_depth=4, n_estimators=10 -   1.6s\n",
      "[CV] learning_rate=0.05, loss=exponential, max_depth=4, n_estimators=10 \n"
     ]
    },
    {
     "name": "stderr",
     "output_type": "stream",
     "text": [
      "[Parallel(n_jobs=1)]: Done   1 out of   1 | elapsed:    1.6s remaining:    0.0s\n"
     ]
    },
    {
     "name": "stdout",
     "output_type": "stream",
     "text": [
      "[CV]  learning_rate=0.05, loss=exponential, max_depth=4, n_estimators=10 -   1.5s\n",
      "[CV] learning_rate=0.05, loss=exponential, max_depth=4, n_estimators=10 \n",
      "[CV]  learning_rate=0.05, loss=exponential, max_depth=4, n_estimators=10 -   1.5s\n",
      "[CV] learning_rate=0.1, loss=deviance, max_depth=3, n_estimators=50 ..\n",
      "[CV]  learning_rate=0.1, loss=deviance, max_depth=3, n_estimators=50 -   5.5s\n",
      "[CV] learning_rate=0.1, loss=deviance, max_depth=3, n_estimators=50 ..\n",
      "[CV]  learning_rate=0.1, loss=deviance, max_depth=3, n_estimators=50 -   5.4s\n",
      "[CV] learning_rate=0.1, loss=deviance, max_depth=3, n_estimators=50 ..\n",
      "[CV]  learning_rate=0.1, loss=deviance, max_depth=3, n_estimators=50 -   5.3s\n",
      "[CV] learning_rate=0.1, loss=exponential, max_depth=1, n_estimators=100 \n",
      "[CV]  learning_rate=0.1, loss=exponential, max_depth=1, n_estimators=100 -   4.1s\n",
      "[CV] learning_rate=0.1, loss=exponential, max_depth=1, n_estimators=100 \n",
      "[CV]  learning_rate=0.1, loss=exponential, max_depth=1, n_estimators=100 -   4.1s\n",
      "[CV] learning_rate=0.1, loss=exponential, max_depth=1, n_estimators=100 \n",
      "[CV]  learning_rate=0.1, loss=exponential, max_depth=1, n_estimators=100 -   4.1s\n",
      "[CV] learning_rate=0.1, loss=exponential, max_depth=2, n_estimators=200 \n",
      "[CV]  learning_rate=0.1, loss=exponential, max_depth=2, n_estimators=200 -  13.8s\n",
      "[CV] learning_rate=0.1, loss=exponential, max_depth=2, n_estimators=200 \n",
      "[CV]  learning_rate=0.1, loss=exponential, max_depth=2, n_estimators=200 -  13.8s\n",
      "[CV] learning_rate=0.1, loss=exponential, max_depth=2, n_estimators=200 \n",
      "[CV]  learning_rate=0.1, loss=exponential, max_depth=2, n_estimators=200 -  13.9s\n",
      "[CV] learning_rate=0.05, loss=deviance, max_depth=1, n_estimators=200 \n",
      "[CV]  learning_rate=0.05, loss=deviance, max_depth=1, n_estimators=200 -   8.0s\n",
      "[CV] learning_rate=0.05, loss=deviance, max_depth=1, n_estimators=200 \n",
      "[CV]  learning_rate=0.05, loss=deviance, max_depth=1, n_estimators=200 -   7.7s\n",
      "[CV] learning_rate=0.05, loss=deviance, max_depth=1, n_estimators=200 \n",
      "[CV]  learning_rate=0.05, loss=deviance, max_depth=1, n_estimators=200 -   7.7s\n",
      "[CV] learning_rate=0.1, loss=deviance, max_depth=4, n_estimators=200 .\n",
      "[CV]  learning_rate=0.1, loss=deviance, max_depth=4, n_estimators=200 -  29.7s\n",
      "[CV] learning_rate=0.1, loss=deviance, max_depth=4, n_estimators=200 .\n",
      "[CV]  learning_rate=0.1, loss=deviance, max_depth=4, n_estimators=200 -  29.7s\n",
      "[CV] learning_rate=0.1, loss=deviance, max_depth=4, n_estimators=200 .\n",
      "[CV]  learning_rate=0.1, loss=deviance, max_depth=4, n_estimators=200 -  27.6s\n",
      "[CV] learning_rate=0.05, loss=deviance, max_depth=1, n_estimators=50 .\n",
      "[CV]  learning_rate=0.05, loss=deviance, max_depth=1, n_estimators=50 -   2.1s\n",
      "[CV] learning_rate=0.05, loss=deviance, max_depth=1, n_estimators=50 .\n",
      "[CV]  learning_rate=0.05, loss=deviance, max_depth=1, n_estimators=50 -   1.7s\n",
      "[CV] learning_rate=0.05, loss=deviance, max_depth=1, n_estimators=50 .\n",
      "[CV]  learning_rate=0.05, loss=deviance, max_depth=1, n_estimators=50 -   1.7s\n",
      "[CV] learning_rate=0.05, loss=deviance, max_depth=2, n_estimators=400 \n",
      "[CV]  learning_rate=0.05, loss=deviance, max_depth=2, n_estimators=400 -  23.7s\n",
      "[CV] learning_rate=0.05, loss=deviance, max_depth=2, n_estimators=400 \n",
      "[CV]  learning_rate=0.05, loss=deviance, max_depth=2, n_estimators=400 -  23.1s\n",
      "[CV] learning_rate=0.05, loss=deviance, max_depth=2, n_estimators=400 \n",
      "[CV]  learning_rate=0.05, loss=deviance, max_depth=2, n_estimators=400 -  23.1s\n",
      "[CV] learning_rate=0.1, loss=deviance, max_depth=4, n_estimators=200 .\n",
      "[CV]  learning_rate=0.1, loss=deviance, max_depth=4, n_estimators=200 -  25.0s\n",
      "[CV] learning_rate=0.1, loss=deviance, max_depth=4, n_estimators=200 .\n",
      "[CV]  learning_rate=0.1, loss=deviance, max_depth=4, n_estimators=200 -  24.0s\n",
      "[CV] learning_rate=0.1, loss=deviance, max_depth=4, n_estimators=200 .\n",
      "[CV]  learning_rate=0.1, loss=deviance, max_depth=4, n_estimators=200 -  24.7s\n",
      "[CV] learning_rate=0.1, loss=deviance, max_depth=3, n_estimators=10 ..\n",
      "[CV]  learning_rate=0.1, loss=deviance, max_depth=3, n_estimators=10 -   0.8s\n",
      "[CV] learning_rate=0.1, loss=deviance, max_depth=3, n_estimators=10 ..\n",
      "[CV]  learning_rate=0.1, loss=deviance, max_depth=3, n_estimators=10 -   0.8s\n",
      "[CV] learning_rate=0.1, loss=deviance, max_depth=3, n_estimators=10 ..\n",
      "[CV]  learning_rate=0.1, loss=deviance, max_depth=3, n_estimators=10 -   0.9s\n"
     ]
    },
    {
     "name": "stderr",
     "output_type": "stream",
     "text": [
      "[Parallel(n_jobs=1)]: Done  30 out of  30 | elapsed:  5.7min finished\n"
     ]
    }
   ],
   "source": [
    "randomizedSearchGB = RandomizedSearchCV(estimator=gbMod, param_distributions=gbParams, n_iter=10,\n",
    "                                   scoring='roc_auc', fit_params=None, cv=None, verbose=2).fit(X_train, Y_train)"
   ]
  },
  {
   "cell_type": "code",
   "execution_count": 147,
   "metadata": {},
   "outputs": [
    {
     "data": {
      "text/plain": [
       "({'learning_rate': 0.1,\n",
       "  'loss': 'exponential',\n",
       "  'max_depth': 2,\n",
       "  'n_estimators': 200},\n",
       " 0.8631270429865617)"
      ]
     },
     "execution_count": 147,
     "metadata": {},
     "output_type": "execute_result"
    }
   ],
   "source": [
    "randomizedSearchGB.best_params_, randomizedSearchGB.best_score_"
   ]
  },
  {
   "cell_type": "code",
   "execution_count": 148,
   "metadata": {
    "collapsed": true
   },
   "outputs": [],
   "source": [
    "bestGbModFitted = randomizedSearchGB.best_estimator_.fit(X_train, Y_train)"
   ]
  },
  {
   "cell_type": "code",
   "execution_count": 149,
   "metadata": {
    "collapsed": true
   },
   "outputs": [],
   "source": [
    "bestAdaModFitted = randomizedSearchAda.best_estimator_.fit(X_train, Y_train)"
   ]
  },
  {
   "cell_type": "code",
   "execution_count": 150,
   "metadata": {},
   "outputs": [
    {
     "name": "stderr",
     "output_type": "stream",
     "text": [
      "[Parallel(n_jobs=1)]: Done  10 out of  10 | elapsed:  2.6min finished\n",
      "[Parallel(n_jobs=1)]: Done  10 out of  10 | elapsed:  6.9min finished\n"
     ]
    }
   ],
   "source": [
    "cvDictHPO = cvDictGen(functions=[bestGbModFitted, bestAdaModFitted], scr='roc_auc')"
   ]
  },
  {
   "cell_type": "code",
   "execution_count": 151,
   "metadata": {},
   "outputs": [
    {
     "data": {
      "text/plain": [
       "{'AdaBoostClassifier': ['1.00', '1.12'],\n",
       " 'GradientBoostingClassifier': ['1.00', '1.00']}"
      ]
     },
     "execution_count": 151,
     "metadata": {},
     "output_type": "execute_result"
    }
   ],
   "source": [
    "cvDictNormalize(cvDictHPO)"
   ]
  },
  {
   "cell_type": "code",
   "execution_count": 188,
   "metadata": {},
   "outputs": [],
   "source": [
    "def plotCvRocCurve(X, y, classifier, nfolds=5):\n",
    "    \n",
    "    from sklearn.metrics import roc_curve, auc\n",
    "    from sklearn.cross_validation import StratifiedKFold\n",
    "    import matplotlib.pyplot as plt\n",
    "    from scipy import interp\n",
    "\n",
    "    cv = StratifiedKFold(y, n_folds=nfolds)\n",
    "\n",
    "    mean_tpr = 0.0\n",
    "    mean_fpr = np.linspace(0, 1, 100)\n",
    "    all_tpr = []\n",
    "\n",
    "    for i, (train, test) in enumerate(cv):\n",
    "        probas_ = classifier.fit(X.iloc[train], y.iloc[train]).predict_proba(X.iloc[test])\n",
    "\n",
    "        fpr, tpr, thresholds = roc_curve(y.iloc[test], probas_[:, 1])\n",
    "        mean_tpr += interp(mean_fpr, fpr, tpr)\n",
    "        mean_tpr[0] = 0.0\n",
    "        roc_auc = auc(fpr, tpr)\n",
    "        plt.plot(fpr, tpr, lw=1, label='ROC fold %d (area = %0.2f)' % (i, roc_auc))\n",
    "\n",
    "    plt.plot([0, 1], [0, 1], '--', color=(0.6, 0.6, 0.6), label='Luck')\n",
    "\n",
    "    mean_tpr /= len(cv)\n",
    "    mean_tpr[-1] = 1.0\n",
    "    mean_auc = auc(mean_fpr, mean_tpr)\n",
    "    plt.plot(mean_fpr, mean_tpr, 'k--',\n",
    "             label='Mean ROC (area = %0.2f)' % mean_auc, lw=2)\n",
    "\n",
    "    plt.xlim([-0.05, 1.05])\n",
    "    plt.ylim([-0.05, 1.05])\n",
    "    plt.xlabel('False Positive Rate')\n",
    "    plt.ylabel('True Positive Rate')\n",
    "    plt.title('CV ROC curve')\n",
    "    plt.legend(loc=\"lower right\")\n",
    "    fig = plt.gcf()\n",
    "    fig.set_size_inches(15,5)\n",
    "\n",
    "    plt.show()\n",
    "\n",
    "def rocZeroOne(y_true, y_predicted_porba):\n",
    "    \n",
    "    from sklearn.metrics import roc_curve\n",
    "    from scipy.spatial.distance import euclidean\n",
    "    \n",
    "    fpr, tpr, thresholds = roc_curve(y_true, y_predicted_porba[:, 1])\n",
    "    \n",
    "    best = [0, 1]\n",
    "    dist = []\n",
    "    for (x, y) in zip(fpr, tpr):\n",
    "        dist.append([euclidean([x,y], best)])\n",
    "\n",
    "    bestPoint = [fpr[dist.index(min(dist))], tpr[dist.index(min(dist))]]\n",
    "    \n",
    "    bestCutOff1 = thresholds[list(fpr).index(bestPoint[0])]\n",
    "    bestCutOff2 = thresholds[list(tpr).index(bestPoint[1])]\n",
    "    \n",
    "    print('\\n' + 'ROC曲线最佳点位置: TPR = {:0.3f}%, FPR = {:0.3f}%'.format(bestPoint[1]*100, bestPoint[0]*100))\n",
    "    print('\\n' + '最佳截止点: {:0.4f}'.format(bestCutOff1))\n",
    "\n",
    "    plt.plot(dist)\n",
    "    plt.xlabel('Index')\n",
    "    plt.ylabel('Euclidean Distance to the perfect [0,1]')\n",
    "    fig = plt.gcf()\n",
    "    fig.set_size_inches(15,5)"
   ]
  },
  {
   "cell_type": "code",
   "execution_count": 166,
   "metadata": {},
   "outputs": [
    {
     "data": {
      "image/png": "[encoded data removed]",
      "text/plain": [
       "<matplotlib.figure.Figure at 0x1a025400>"
      ]
     },
     "metadata": {},
     "output_type": "display_data"
    }
   ],
   "source": [
    "plotCvRocCurve(X, Y, randomizedSearchGB.best_estimator_)"
   ]
  },
  {
   "cell_type": "code",
   "execution_count": 167,
   "metadata": {},
   "outputs": [
    {
     "name": "stdout",
     "output_type": "stream",
     "text": [
      "\n",
      "ROC曲线最佳点位置: TPR = 76.615%, FPR = 21.597%\n",
      "\n",
      "最佳截止点: 0.0722\n"
     ]
    },
    {
     "data": {
      "image/png": "[encoded data removed]",
      "text/plain": [
       "<matplotlib.figure.Figure at 0x1a092208>"
      ]
     },
     "metadata": {},
     "output_type": "display_data"
    }
   ],
   "source": [
    "rocZeroOne(Y_test, randomizedSearchGB.predict_proba(X_test))"
   ]
  },
  {
   "cell_type": "code",
   "execution_count": 168,
   "metadata": {},
   "outputs": [
    {
     "data": {
      "image/png": "[encoded data removed]",
      "text/plain": [
       "<matplotlib.figure.Figure at 0x19e460b8>"
      ]
     },
     "metadata": {},
     "output_type": "display_data"
    }
   ],
   "source": [
    "plotCvRocCurve(X, Y, gridSearchAda.best_estimator_)"
   ]
  },
  {
   "cell_type": "code",
   "execution_count": 169,
   "metadata": {},
   "outputs": [
    {
     "name": "stdout",
     "output_type": "stream",
     "text": [
      "\n",
      "ROC曲线最佳点位置: TPR = 75.889%, FPR = 21.769%\n",
      "\n",
      "最佳截止点: 0.4834\n"
     ]
    },
    {
     "data": {
      "image/png": "[encoded data removed]",
      "text/plain": [
       "<matplotlib.figure.Figure at 0x19f0e860>"
      ]
     },
     "metadata": {},
     "output_type": "display_data"
    }
   ],
   "source": [
    "rocZeroOne(Y_test, gridSearchAda.predict_proba(X_test))"
   ]
  },
  {
   "cell_type": "code",
   "execution_count": 190,
   "metadata": {},
   "outputs": [
    {
     "data": {
      "text/plain": [
       "array([[ 0.62513009,  0.47723992,  1.10319565,  0.37133935,  0.55162281,\n",
       "         1.56827539,  1.09515665]])"
      ]
     },
     "execution_count": 190,
     "metadata": {},
     "output_type": "execute_result"
    }
   ],
   "source": [
    "lrMod.coef_ "
   ]
  },
  {
   "cell_type": "markdown",
   "metadata": {},
   "source": [
    "LR模型"
   ]
  },
  {
   "cell_type": "code",
   "execution_count": 173,
   "metadata": {},
   "outputs": [
    {
     "name": "stdout",
     "output_type": "stream",
     "text": [
      "[LibLinear][LibLinear][LibLinear][LibLinear][LibLinear][LibLinear]"
     ]
    },
    {
     "data": {
      "image/png": "[encoded data removed]",
      "text/plain": [
       "<matplotlib.figure.Figure at 0x181a00b8>"
      ]
     },
     "metadata": {},
     "output_type": "display_data"
    }
   ],
   "source": [
    "data = pd.read_csv('./Woetrain.csv')\n",
    "#应变量\n",
    "data_Y = data['SeriousDlqin2yrs']\n",
    "#自变量，剔除对因变量影响不明显的变量\n",
    "data_X = data.drop(['SeriousDlqin2yrs','DebtRatio','NumberRealEstateLoansOrLines','NumberOfDependents'],axis=1)\n",
    "plotCvRocCurve(data_X, data_Y, lrMod.fit(data_X, data_Y))"
   ]
  },
  {
   "cell_type": "code",
   "execution_count": 175,
   "metadata": {},
   "outputs": [
    {
     "name": "stdout",
     "output_type": "stream",
     "text": [
      "\n",
      "ROC曲线最佳点位置: TPR = 76.891%, FPR = 22.978%\n",
      "\n",
      "最佳截止点: 0.0651\n"
     ]
    },
    {
     "data": {
      "image/png": "[encoded data removed]",
      "text/plain": [
       "<matplotlib.figure.Figure at 0x19e77748>"
      ]
     },
     "metadata": {},
     "output_type": "display_data"
    }
   ],
   "source": [
    "Y_test = test['SeriousDlqin2yrs']\n",
    "X_test = test.drop(['SeriousDlqin2yrs', 'DebtRatio', 'NumberRealEstateLoansOrLines', 'NumberOfDependents'], axis=1)\n",
    "rocZeroOne(Y_test, lrMod.predict_proba(X_test))"
   ]
  },
  {
   "cell_type": "code",
   "execution_count": null,
   "metadata": {
    "collapsed": true
   },
   "outputs": [],
   "source": []
  },
  {
   "cell_type": "code",
   "execution_count": 66,
   "metadata": {},
   "outputs": [
    {
     "name": "stderr",
     "output_type": "stream",
     "text": [
      "D:\\software\\anaconda\\anaconda\\lib\\site-packages\\statsmodels\\compat\\pandas.py:56: FutureWarning: The pandas.core.datetools module is deprecated and will be removed in a future version. Please use the pandas.tseries module instead.\n",
      "  from pandas.core import datetools\n"
     ]
    },
    {
     "name": "stdout",
     "output_type": "stream",
     "text": [
      "Optimization terminated successfully.\n",
      "         Current function value: 0.188722\n",
      "         Iterations 8\n",
      "                           Logit Regression Results                           \n",
      "==============================================================================\n",
      "Dep. Variable:       SeriousDlqin2yrs   No. Observations:               101893\n",
      "Model:                          Logit   Df Residuals:                   101885\n",
      "Method:                           MLE   Df Model:                            7\n",
      "Date:                Thu, 25 Oct 2018   Pseudo R-squ.:                  0.2409\n",
      "Time:                        10:57:38   Log-Likelihood:                -19229.\n",
      "converged:                       True   LL-Null:                       -25333.\n",
      "                                        LLR p-value:                     0.000\n",
      "========================================================================================================\n",
      "                                           coef    std err          z      P>|z|      [0.025      0.975]\n",
      "--------------------------------------------------------------------------------------------------------\n",
      "const                                   -9.2342      0.109    -84.953      0.000      -9.447      -9.021\n",
      "RevolvingUtilizationOfUnsecuredLines     0.6295      0.016     40.463      0.000       0.599       0.660\n",
      "age                                      0.4615      0.031     14.856      0.000       0.401       0.522\n",
      "NumberOfTime30-59DaysPastDueNotWorse     1.1004      0.031     35.974      0.000       1.040       1.160\n",
      "MonthlyIncome                            0.3725      0.063      5.895      0.000       0.249       0.496\n",
      "NumberOfOpenCreditLinesAndLoans          0.5254      0.058      9.084      0.000       0.412       0.639\n",
      "NumberOfTimes90DaysLate                  1.5906      0.043     37.308      0.000       1.507       1.674\n",
      "NumberOfTime60-89DaysPastDueNotWorse     1.1133      0.044     25.390      0.000       1.027       1.199\n",
      "========================================================================================================\n"
     ]
    }
   ],
   "source": [
    "import statsmodels.api as sm\n",
    "from sklearn.metrics import roc_curve, auc\n",
    "# 导入数据\n",
    "data = pd.read_csv('./Woetrain.csv')\n",
    "#应变量\n",
    "Y = data['SeriousDlqin2yrs']\n",
    "#自变量，剔除对因变量影响不明显的变量\n",
    "X = data.drop(['SeriousDlqin2yrs','DebtRatio','NumberRealEstateLoansOrLines','NumberOfDependents'],axis=1)\n",
    "# X = data.drop(['SeriousDlqin2yrs','DebtRatio','MonthlyIncome', 'NumberOfOpenCreditLinesAndLoans','NumberRealEstateLoansOrLines','NumberOfDependents'],axis=1)\n",
    "X1 = sm.add_constant(X)\n",
    "logit = sm.Logit(Y, X1)\n",
    "result = logit.fit()\n",
    "print(result.summary())"
   ]
  },
  {
   "cell_type": "code",
   "execution_count": 67,
   "metadata": {},
   "outputs": [
    {
     "data": {
      "image/png": "[encoded data removed]",
      "text/plain": [
       "<matplotlib.figure.Figure at 0x119cfb70>"
      ]
     },
     "metadata": {},
     "output_type": "display_data"
    }
   ],
   "source": [
    "test = pd.read_csv('./TestWoeData.csv')\n",
    "Y_test = test['SeriousDlqin2yrs']\n",
    "# X_test = test.drop(['SeriousDlqin2yrs', 'DebtRatio', 'MonthlyIncome', 'NumberOfOpenCreditLinesAndLoans','NumberRealEstateLoansOrLines', 'NumberOfDependents'], axis=1)\n",
    "X_test = test.drop(['SeriousDlqin2yrs', 'DebtRatio', 'NumberRealEstateLoansOrLines', 'NumberOfDependents'], axis=1)\n",
    "X3 = sm.add_constant(X_test)\n",
    "resu = result.predict(X3)\n",
    "fpr, tpr, threshold = roc_curve(Y_test, resu)\n",
    "rocauc = auc(fpr, tpr)\n",
    "plt.plot(fpr, tpr, 'b', label='AUC = %0.2f' % rocauc)\n",
    "plt.legend(loc = 'lower right')\n",
    "plt.plot([0, 1], [0, 1], 'r--')\n",
    "plt.xlim([0, 1])\n",
    "plt.ylim([0, 1])\n",
    "plt.ylabel('真正率')\n",
    "plt.xlabel('假正率')\n",
    "plt.show()"
   ]
  },
  {
   "cell_type": "code",
   "execution_count": 191,
   "metadata": {},
   "outputs": [
    {
     "data": {
      "text/plain": [
       "array([[ 0.62513009,  0.47723992,  1.10319565,  0.37133935,  0.55162281,\n",
       "         1.56827539,  1.09515665]])"
      ]
     },
     "execution_count": 191,
     "metadata": {},
     "output_type": "execute_result"
    }
   ],
   "source": [
    "lrMod.coef_ "
   ]
  },
  {
   "cell_type": "code",
   "execution_count": 192,
   "metadata": {
    "collapsed": true
   },
   "outputs": [],
   "source": [
    "import math\n",
    "# coe为逻辑回归模型的系数\n",
    "coe = [-9.2342, 0.6295, 0.4615, 1.1004, 0.3725, 0.5254, 1.5906, 1.1133]\n",
    "\n",
    "p = 20 / math.log(2)\n",
    "q = 600 - 20 * math.log(20) / math.log(2)\n",
    "baseScore = round(q + p * coe[0], 0)"
   ]
  },
  {
   "cell_type": "code",
   "execution_count": 193,
   "metadata": {},
   "outputs": [
    {
     "data": {
      "text/plain": [
       "247.0"
      ]
     },
     "execution_count": 193,
     "metadata": {},
     "output_type": "execute_result"
    }
   ],
   "source": [
    "baseScore"
   ]
  },
  {
   "cell_type": "code",
   "execution_count": 194,
   "metadata": {
    "collapsed": true
   },
   "outputs": [],
   "source": [
    "def get_score(coe, woe, factor):\n",
    "    scores = []\n",
    "    for w in woe:\n",
    "        score = round(coe * w * factor, 0)\n",
    "        scores.append(score)\n",
    "    return scores"
   ]
  },
  {
   "cell_type": "code",
   "execution_count": 195,
   "metadata": {
    "collapsed": true
   },
   "outputs": [],
   "source": [
    "x1 = get_score(coe[1], woex1, p)\n",
    "x2 = get_score(coe[2], woex2, p)\n",
    "x3 = get_score(coe[3], woex3, p)\n",
    "x5 = get_score(coe[4], woex5, p)\n",
    "x6 = get_score(coe[5], woex6, p)\n",
    "x7 = get_score(coe[6], woex7, p)\n",
    "x9 = get_score(coe[7], woex9, p)"
   ]
  },
  {
   "cell_type": "code",
   "execution_count": 196,
   "metadata": {},
   "outputs": [
    {
     "name": "stdout",
     "output_type": "stream",
     "text": [
      "[-25.0, -22.0, -5.0, 20.0] [8.0, 5.0, 4.0, 3.0, 1.0, -2.0, -6.0, -12.0, -14.0] [-16.0, 29.0, 55.0, 75.0, 83.0] [2.0, 1.0, -4.0] [17.0, 5.0, 2.0, -0.0, -2.0] [-17.0, 88.0, 122.0, 151.0] [-9.0, 58.0, 87.0, 100.0]\n"
     ]
    }
   ],
   "source": [
    "print(x1, x2, x3, x5, x6, x7, x9)"
   ]
  },
  {
   "cell_type": "code",
   "execution_count": 197,
   "metadata": {
    "collapsed": true
   },
   "outputs": [],
   "source": [
    "def compute_score(series, cut, score):\n",
    "    list = []\n",
    "    i = 0\n",
    "    while i < len(series):\n",
    "        value = series[i]\n",
    "        j = len(cut) - 2\n",
    "        m = len(cut) - 2\n",
    "        while j >= 0:\n",
    "            if value >= cut[j]:\n",
    "                j = -1\n",
    "            else:\n",
    "                j -= 1\n",
    "                m -= 1\n",
    "        list.append(score[m])\n",
    "        i += 1\n",
    "    return list"
   ]
  },
  {
   "cell_type": "code",
   "execution_count": 198,
   "metadata": {
    "collapsed": true
   },
   "outputs": [],
   "source": [
    "test1 = pd.read_csv('TestData.csv')\n",
    "test1['BaseScore'] = Series(np.zeros(len(test1))) + baseScore\n",
    "test1['x1'] = Series(compute_score(test1['RevolvingUtilizationOfUnsecuredLines'], cutx1, x1))\n",
    "test1['x2'] = Series(compute_score(test1['age'], cutx2, x2))\n",
    "test1['x3'] = Series(compute_score(test1['NumberOfTime30-59DaysPastDueNotWorse'], cutx3, x3))\n",
    "test1['x5'] = Series(compute_score(test1['MonthlyIncome'], cutx5, x5))\n",
    "test1['x6'] = Series(compute_score(test1['NumberOfOpenCreditLinesAndLoans'], cutx6, x6))\n",
    "test1['x7'] = Series(compute_score(test1['NumberOfTimes90DaysLate'], cutx7, x7))\n",
    "test1['x9'] = Series(compute_score(test1['NumberOfTime60-89DaysPastDueNotWorse'], cutx9, x9))\n",
    "test1['Score'] = test1['x1'] + test1['x2'] + test1['x3'] + test1['x7'] +test1['x9']  + baseScore\n",
    "test1.to_csv('ScoreData.csv', index=False)"
   ]
  },
  {
   "cell_type": "code",
   "execution_count": 199,
   "metadata": {},
   "outputs": [],
   "source": [
    "ScoreData = pd.read_csv(\"ScoreData.csv\")"
   ]
  },
  {
   "cell_type": "code",
   "execution_count": 200,
   "metadata": {},
   "outputs": [
    {
     "name": "stdout",
     "output_type": "stream",
     "text": [
      "<class 'pandas.core.frame.DataFrame'>\n",
      "RangeIndex: 43669 entries, 0 to 43668\n",
      "Data columns (total 20 columns):\n",
      "SeriousDlqin2yrs                        43669 non-null int64\n",
      "RevolvingUtilizationOfUnsecuredLines    43669 non-null float64\n",
      "age                                     43669 non-null int64\n",
      "NumberOfTime30-59DaysPastDueNotWorse    43669 non-null float64\n",
      "DebtRatio                               43669 non-null float64\n",
      "MonthlyIncome                           43669 non-null float64\n",
      "NumberOfOpenCreditLinesAndLoans         43669 non-null int64\n",
      "NumberOfTimes90DaysLate                 43669 non-null float64\n",
      "NumberRealEstateLoansOrLines            43669 non-null int64\n",
      "NumberOfTime60-89DaysPastDueNotWorse    43669 non-null float64\n",
      "NumberOfDependents                      43669 non-null float64\n",
      "BaseScore                               43669 non-null float64\n",
      "x1                                      43669 non-null float64\n",
      "x2                                      43669 non-null float64\n",
      "x3                                      43669 non-null float64\n",
      "x5                                      43669 non-null float64\n",
      "x6                                      43669 non-null float64\n",
      "x7                                      43669 non-null float64\n",
      "x9                                      43669 non-null float64\n",
      "Score                                   43669 non-null float64\n",
      "dtypes: float64(16), int64(4)\n",
      "memory usage: 6.7 MB\n"
     ]
    }
   ],
   "source": [
    "ScoreData.info()"
   ]
  },
  {
   "cell_type": "code",
   "execution_count": 201,
   "metadata": {},
   "outputs": [
    {
     "data": {
      "text/html": [
       "<div>\n",
       "<style>\n",
       "    .dataframe thead tr:only-child th {\n",
       "        text-align: right;\n",
       "    }\n",
       "\n",
       "    .dataframe thead th {\n",
       "        text-align: left;\n",
       "    }\n",
       "\n",
       "    .dataframe tbody tr th {\n",
       "        vertical-align: top;\n",
       "    }\n",
       "</style>\n",
       "<table border=\"1\" class=\"dataframe\">\n",
       "  <thead>\n",
       "    <tr style=\"text-align: right;\">\n",
       "      <th></th>\n",
       "      <th>SeriousDlqin2yrs</th>\n",
       "      <th>RevolvingUtilizationOfUnsecuredLines</th>\n",
       "      <th>age</th>\n",
       "      <th>NumberOfTime30-59DaysPastDueNotWorse</th>\n",
       "      <th>DebtRatio</th>\n",
       "      <th>MonthlyIncome</th>\n",
       "      <th>NumberOfOpenCreditLinesAndLoans</th>\n",
       "      <th>NumberOfTimes90DaysLate</th>\n",
       "      <th>NumberRealEstateLoansOrLines</th>\n",
       "      <th>NumberOfTime60-89DaysPastDueNotWorse</th>\n",
       "      <th>NumberOfDependents</th>\n",
       "      <th>BaseScore</th>\n",
       "      <th>x1</th>\n",
       "      <th>x2</th>\n",
       "      <th>x3</th>\n",
       "      <th>x5</th>\n",
       "      <th>x6</th>\n",
       "      <th>x7</th>\n",
       "      <th>x9</th>\n",
       "      <th>Score</th>\n",
       "    </tr>\n",
       "  </thead>\n",
       "  <tbody>\n",
       "    <tr>\n",
       "      <th>0</th>\n",
       "      <td>0</td>\n",
       "      <td>0.005190</td>\n",
       "      <td>73</td>\n",
       "      <td>0.0</td>\n",
       "      <td>0.248843</td>\n",
       "      <td>5400.0</td>\n",
       "      <td>16</td>\n",
       "      <td>0.0</td>\n",
       "      <td>1</td>\n",
       "      <td>0.0</td>\n",
       "      <td>0.0</td>\n",
       "      <td>247.0</td>\n",
       "      <td>-25.0</td>\n",
       "      <td>-14.0</td>\n",
       "      <td>29.0</td>\n",
       "      <td>1.0</td>\n",
       "      <td>-2.0</td>\n",
       "      <td>88.0</td>\n",
       "      <td>58.0</td>\n",
       "      <td>383.0</td>\n",
       "    </tr>\n",
       "    <tr>\n",
       "      <th>1</th>\n",
       "      <td>0</td>\n",
       "      <td>0.801766</td>\n",
       "      <td>52</td>\n",
       "      <td>0.0</td>\n",
       "      <td>0.997576</td>\n",
       "      <td>3300.0</td>\n",
       "      <td>9</td>\n",
       "      <td>0.0</td>\n",
       "      <td>1</td>\n",
       "      <td>0.0</td>\n",
       "      <td>1.0</td>\n",
       "      <td>247.0</td>\n",
       "      <td>20.0</td>\n",
       "      <td>1.0</td>\n",
       "      <td>29.0</td>\n",
       "      <td>2.0</td>\n",
       "      <td>-2.0</td>\n",
       "      <td>88.0</td>\n",
       "      <td>58.0</td>\n",
       "      <td>443.0</td>\n",
       "    </tr>\n",
       "    <tr>\n",
       "      <th>2</th>\n",
       "      <td>0</td>\n",
       "      <td>1.000000</td>\n",
       "      <td>82</td>\n",
       "      <td>0.0</td>\n",
       "      <td>0.000000</td>\n",
       "      <td>5356.0</td>\n",
       "      <td>1</td>\n",
       "      <td>0.0</td>\n",
       "      <td>0</td>\n",
       "      <td>0.0</td>\n",
       "      <td>0.0</td>\n",
       "      <td>247.0</td>\n",
       "      <td>20.0</td>\n",
       "      <td>-14.0</td>\n",
       "      <td>29.0</td>\n",
       "      <td>1.0</td>\n",
       "      <td>5.0</td>\n",
       "      <td>88.0</td>\n",
       "      <td>58.0</td>\n",
       "      <td>428.0</td>\n",
       "    </tr>\n",
       "    <tr>\n",
       "      <th>3</th>\n",
       "      <td>0</td>\n",
       "      <td>0.489051</td>\n",
       "      <td>30</td>\n",
       "      <td>0.0</td>\n",
       "      <td>0.112054</td>\n",
       "      <td>5300.0</td>\n",
       "      <td>5</td>\n",
       "      <td>0.0</td>\n",
       "      <td>0</td>\n",
       "      <td>0.0</td>\n",
       "      <td>1.0</td>\n",
       "      <td>247.0</td>\n",
       "      <td>-5.0</td>\n",
       "      <td>8.0</td>\n",
       "      <td>29.0</td>\n",
       "      <td>1.0</td>\n",
       "      <td>-2.0</td>\n",
       "      <td>88.0</td>\n",
       "      <td>58.0</td>\n",
       "      <td>425.0</td>\n",
       "    </tr>\n",
       "    <tr>\n",
       "      <th>4</th>\n",
       "      <td>0</td>\n",
       "      <td>0.092283</td>\n",
       "      <td>68</td>\n",
       "      <td>0.0</td>\n",
       "      <td>1.566521</td>\n",
       "      <td>1159.0</td>\n",
       "      <td>6</td>\n",
       "      <td>0.0</td>\n",
       "      <td>0</td>\n",
       "      <td>0.0</td>\n",
       "      <td>0.0</td>\n",
       "      <td>247.0</td>\n",
       "      <td>-22.0</td>\n",
       "      <td>-12.0</td>\n",
       "      <td>29.0</td>\n",
       "      <td>2.0</td>\n",
       "      <td>-2.0</td>\n",
       "      <td>88.0</td>\n",
       "      <td>58.0</td>\n",
       "      <td>388.0</td>\n",
       "    </tr>\n",
       "  </tbody>\n",
       "</table>\n",
       "</div>"
      ],
      "text/plain": [
       "   SeriousDlqin2yrs  RevolvingUtilizationOfUnsecuredLines  age  \\\n",
       "0                 0                              0.005190   73   \n",
       "1                 0                              0.801766   52   \n",
       "2                 0                              1.000000   82   \n",
       "3                 0                              0.489051   30   \n",
       "4                 0                              0.092283   68   \n",
       "\n",
       "   NumberOfTime30-59DaysPastDueNotWorse  DebtRatio  MonthlyIncome  \\\n",
       "0                                   0.0   0.248843         5400.0   \n",
       "1                                   0.0   0.997576         3300.0   \n",
       "2                                   0.0   0.000000         5356.0   \n",
       "3                                   0.0   0.112054         5300.0   \n",
       "4                                   0.0   1.566521         1159.0   \n",
       "\n",
       "   NumberOfOpenCreditLinesAndLoans  NumberOfTimes90DaysLate  \\\n",
       "0                               16                      0.0   \n",
       "1                                9                      0.0   \n",
       "2                                1                      0.0   \n",
       "3                                5                      0.0   \n",
       "4                                6                      0.0   \n",
       "\n",
       "   NumberRealEstateLoansOrLines  NumberOfTime60-89DaysPastDueNotWorse  \\\n",
       "0                             1                                   0.0   \n",
       "1                             1                                   0.0   \n",
       "2                             0                                   0.0   \n",
       "3                             0                                   0.0   \n",
       "4                             0                                   0.0   \n",
       "\n",
       "   NumberOfDependents  BaseScore    x1    x2    x3   x5   x6    x7    x9  \\\n",
       "0                 0.0      247.0 -25.0 -14.0  29.0  1.0 -2.0  88.0  58.0   \n",
       "1                 1.0      247.0  20.0   1.0  29.0  2.0 -2.0  88.0  58.0   \n",
       "2                 0.0      247.0  20.0 -14.0  29.0  1.0  5.0  88.0  58.0   \n",
       "3                 1.0      247.0  -5.0   8.0  29.0  1.0 -2.0  88.0  58.0   \n",
       "4                 0.0      247.0 -22.0 -12.0  29.0  2.0 -2.0  88.0  58.0   \n",
       "\n",
       "   Score  \n",
       "0  383.0  \n",
       "1  443.0  \n",
       "2  428.0  \n",
       "3  425.0  \n",
       "4  388.0  "
      ]
     },
     "execution_count": 201,
     "metadata": {},
     "output_type": "execute_result"
    }
   ],
   "source": [
    "ScoreData[ScoreData.SeriousDlqin2yrs == 0].head()"
   ]
  },
  {
   "cell_type": "code",
   "execution_count": null,
   "metadata": {
    "collapsed": true
   },
   "outputs": [],
   "source": []
  }
 ],
 "metadata": {
  "kernelspec": {
   "display_name": "Python 3.10.5 64-bit",
   "language": "python",
   "name": "python3"
  },
  "language_info": {
   "codemirror_mode": {
    "name": "ipython",
    "version": 3
   },
   "file_extension": ".py",
   "mimetype": "text/x-python",
   "name": "python",
   "nbconvert_exporter": "python",
   "pygments_lexer": "ipython3",
   "version": "3.10.5"
  },
  "vscode": {
   "interpreter": {
    "hash": "865d8b2eb28e274047ba64063dfb6a2aabf0dfec4905d304d7a76618dae6fdd4"
   }
  }
 },
 "nbformat": 4,
 "nbformat_minor": 2
}
